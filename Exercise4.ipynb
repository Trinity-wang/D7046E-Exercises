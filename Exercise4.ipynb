{
  "nbformat": 4,
  "nbformat_minor": 0,
  "metadata": {
    "kernelspec": {
      "name": "python3",
      "display_name": "Python 3"
    },
    "language_info": {
      "codemirror_mode": {
        "name": "ipython",
        "version": 3
      },
      "file_extension": ".py",
      "mimetype": "text/x-python",
      "name": "python",
      "nbconvert_exporter": "python",
      "pygments_lexer": "ipython3",
      "version": "3.7.4"
    },
    "colab": {
      "name": "Exercise4.ipynb",
      "provenance": [],
      "collapsed_sections": []
    },
    "accelerator": "GPU"
  },
  "cells": [
    {
      "cell_type": "markdown",
      "metadata": {
        "id": "3k8ZTfr5rOqz",
        "colab_type": "text"
      },
      "source": [
        "# Before you start\n",
        "\n",
        "Before you start this lab you'll need to install some additional packages in your conda environment. These packages are scikit-learn (sklearn), pandas and gensim. The getting started guidelines have been updated to include these packages.\n",
        "\n",
        "You'll also need to download the file 'wiki.simple.vec' from Canvas, which contains word embeddings that will be used in this exercise. Do **NOT** include 'wiki.simple.vec' in your submission of this exercise.\n",
        "\n",
        "The code for this exercise is only to be used for educational purposes."
      ]
    },
    {
      "cell_type": "markdown",
      "metadata": {
        "id": "XruHvvgErOq6",
        "colab_type": "text"
      },
      "source": [
        "# Introduction\n",
        "Natural Language Processing (NLP) is a set of techniques and algorithms that use computers for analyzing natural human language.  NLP can be used to solve a variety of problems, for example:\n",
        "\n",
        "* Subject Matter Identification - What are the topics, people, companies or places discussed in this text?\n",
        "* Sentiment Analysis - Does this text convey a positive, negative or neutral feeling about an entity or subject matter?\n",
        "* Machine Translation - Convert the input from one language to another, for example, from English to French\n",
        "* Text-to-Speech - Convert the spoken input into its written form\n",
        "* Understanding and Interpretation - What information will answer a specific question?\n",
        "\n",
        "Early NLP systems used rules manually designed by domain experts.  As the field advanced, the use of machine learning enabled the application of more powerful models that took advantage of ever-growing amounts of data.  In this exercise we are taking advantage of Deep Learning to tackle ever more complex NLP tasks.\n",
        "\n",
        "In this lab we will focus on the following:\n",
        "1. The bag-of-words representation and its shortcomings\n",
        "2. Computing word embeddings using the Word2Vec algorithm\n",
        "3. Applying pre-trained word embeddings to a text classification problem\n",
        "\n",
        "\n"
      ]
    },
    {
      "cell_type": "markdown",
      "metadata": {
        "id": "WPN2PxdPrOq-",
        "colab_type": "text"
      },
      "source": [
        "# The Importance of Data Representation in NLP"
      ]
    },
    {
      "cell_type": "markdown",
      "metadata": {
        "id": "o7n_7rsmrOrI",
        "colab_type": "text"
      },
      "source": [
        "One of the most important issues that data scientists encounter is how to represent their data to an algorithm.  This is especially relevant in NLP where inputs often differ in lengths, taking the form of sentences or even entire documents. Regardless of input length it is important to develop a representation that can capture similar themes and/or uses of domain-specific terms and vocabulary. We will demonstrate this using examples from Brian Wildsmith's wonderful children's book 'Cat on the Mat'.\n",
        "\n",
        "### Bag-of-Words Representation\n",
        "A common way of representing text is using the Bag-of-Words (BoW) approach, where we simply count the number of occurrences of each word in our *corpus*, a collection of individual texts or *documents*, for each individual item in the collection:\n",
        "\n",
        "NOTE: The exercises in this section are for warmup so there's hints containing most of the solution."
      ]
    },
    {
      "cell_type": "code",
      "metadata": {
        "id": "ZOJoRthtrOrM",
        "colab_type": "code",
        "outputId": "ca48b12b-d21d-4bf0-bdd1-50dd4c2e3756",
        "colab": {
          "base_uri": "https://localhost:8080/",
          "height": 143
        }
      },
      "source": [
        "import pandas as pd\n",
        "from sklearn.feature_extraction.text import CountVectorizer\n",
        "from IPython.display import HTML\n",
        "\n",
        "corpus = ['The cat sat on the mat', 'The dog sat on the mat', 'The goat sat on the mat']\n",
        "\n",
        "vectorizer = CountVectorizer(lowercase=True, analyzer='word', binary=False)\n",
        "representation = vectorizer.fit_transform(corpus)\n",
        "representation_df = pd.DataFrame(data = representation.toarray(), columns=sorted(vectorizer.vocabulary_.keys()))\n",
        "representation_df"
      ],
      "execution_count": 1,
      "outputs": [
        {
          "output_type": "execute_result",
          "data": {
            "text/html": [
              "<div>\n",
              "<style scoped>\n",
              "    .dataframe tbody tr th:only-of-type {\n",
              "        vertical-align: middle;\n",
              "    }\n",
              "\n",
              "    .dataframe tbody tr th {\n",
              "        vertical-align: top;\n",
              "    }\n",
              "\n",
              "    .dataframe thead th {\n",
              "        text-align: right;\n",
              "    }\n",
              "</style>\n",
              "<table border=\"1\" class=\"dataframe\">\n",
              "  <thead>\n",
              "    <tr style=\"text-align: right;\">\n",
              "      <th></th>\n",
              "      <th>cat</th>\n",
              "      <th>dog</th>\n",
              "      <th>goat</th>\n",
              "      <th>mat</th>\n",
              "      <th>on</th>\n",
              "      <th>sat</th>\n",
              "      <th>the</th>\n",
              "    </tr>\n",
              "  </thead>\n",
              "  <tbody>\n",
              "    <tr>\n",
              "      <th>0</th>\n",
              "      <td>1</td>\n",
              "      <td>0</td>\n",
              "      <td>0</td>\n",
              "      <td>1</td>\n",
              "      <td>1</td>\n",
              "      <td>1</td>\n",
              "      <td>2</td>\n",
              "    </tr>\n",
              "    <tr>\n",
              "      <th>1</th>\n",
              "      <td>0</td>\n",
              "      <td>1</td>\n",
              "      <td>0</td>\n",
              "      <td>1</td>\n",
              "      <td>1</td>\n",
              "      <td>1</td>\n",
              "      <td>2</td>\n",
              "    </tr>\n",
              "    <tr>\n",
              "      <th>2</th>\n",
              "      <td>0</td>\n",
              "      <td>0</td>\n",
              "      <td>1</td>\n",
              "      <td>1</td>\n",
              "      <td>1</td>\n",
              "      <td>1</td>\n",
              "      <td>2</td>\n",
              "    </tr>\n",
              "  </tbody>\n",
              "</table>\n",
              "</div>"
            ],
            "text/plain": [
              "   cat  dog  goat  mat  on  sat  the\n",
              "0    1    0     0    1   1    1    2\n",
              "1    0    1     0    1   1    1    2\n",
              "2    0    0     1    1   1    1    2"
            ]
          },
          "metadata": {
            "tags": []
          },
          "execution_count": 1
        }
      ]
    },
    {
      "cell_type": "markdown",
      "metadata": {
        "id": "SxM-zfrTrOrZ",
        "colab_type": "text"
      },
      "source": [
        "For this representation we count how often a word appears in a given input. This count is typically referred to as a *term frequency*. The collection of all unique words for a corpus is referred to as the *vocabulary* for the corpus. In the Bag-of-Words representation, the size of the vocabulary plays a significant factor in the size of the representation of the text.\n",
        "\n"
      ]
    },
    {
      "cell_type": "markdown",
      "metadata": {
        "id": "lVbjas31rOrd",
        "colab_type": "text"
      },
      "source": [
        "A similar representation uses a binary value for each word as opposed to a discrete count. This is often referred to as a one-hot encoding. It has the advantage of being relatively compact because each word in a vocabulary is represented using a single bit. This representation is frequently used when term frequency is irrelevant to the application at hand.\n",
        "\n",
        "We use the *CountVectorizer* object from Python's Scikit-Learn package of Machine Learning tools and algorithms.  See the API for CountVectorizer [here](http://scikit-learn.org/stable/modules/generated/sklearn.feature_extraction.text.CountVectorizer.html).\n",
        "\n",
        "**Exercise**: Use the CountVectorizer object to create a binary value for each word.  See [here](#hint1 \"Use the binary= argument to the constructor\") if you need a hint."
      ]
    },
    {
      "cell_type": "code",
      "metadata": {
        "id": "uL7JJ5oJrOrg",
        "colab_type": "code",
        "outputId": "9588cd82-266d-4d5c-a4ed-f94e291c236a",
        "colab": {
          "base_uri": "https://localhost:8080/",
          "height": 143
        }
      },
      "source": [
        "vectorizer = CountVectorizer(binary=True) ##TODO## : Use CountVectorizer to create a binary value for each word\n",
        "representation = vectorizer.fit_transform(corpus)\n",
        "representation_df = pd.DataFrame(data = representation.toarray(), columns=sorted(vectorizer.vocabulary_.keys()))\n",
        "representation_df"
      ],
      "execution_count": 2,
      "outputs": [
        {
          "output_type": "execute_result",
          "data": {
            "text/html": [
              "<div>\n",
              "<style scoped>\n",
              "    .dataframe tbody tr th:only-of-type {\n",
              "        vertical-align: middle;\n",
              "    }\n",
              "\n",
              "    .dataframe tbody tr th {\n",
              "        vertical-align: top;\n",
              "    }\n",
              "\n",
              "    .dataframe thead th {\n",
              "        text-align: right;\n",
              "    }\n",
              "</style>\n",
              "<table border=\"1\" class=\"dataframe\">\n",
              "  <thead>\n",
              "    <tr style=\"text-align: right;\">\n",
              "      <th></th>\n",
              "      <th>cat</th>\n",
              "      <th>dog</th>\n",
              "      <th>goat</th>\n",
              "      <th>mat</th>\n",
              "      <th>on</th>\n",
              "      <th>sat</th>\n",
              "      <th>the</th>\n",
              "    </tr>\n",
              "  </thead>\n",
              "  <tbody>\n",
              "    <tr>\n",
              "      <th>0</th>\n",
              "      <td>1</td>\n",
              "      <td>0</td>\n",
              "      <td>0</td>\n",
              "      <td>1</td>\n",
              "      <td>1</td>\n",
              "      <td>1</td>\n",
              "      <td>1</td>\n",
              "    </tr>\n",
              "    <tr>\n",
              "      <th>1</th>\n",
              "      <td>0</td>\n",
              "      <td>1</td>\n",
              "      <td>0</td>\n",
              "      <td>1</td>\n",
              "      <td>1</td>\n",
              "      <td>1</td>\n",
              "      <td>1</td>\n",
              "    </tr>\n",
              "    <tr>\n",
              "      <th>2</th>\n",
              "      <td>0</td>\n",
              "      <td>0</td>\n",
              "      <td>1</td>\n",
              "      <td>1</td>\n",
              "      <td>1</td>\n",
              "      <td>1</td>\n",
              "      <td>1</td>\n",
              "    </tr>\n",
              "  </tbody>\n",
              "</table>\n",
              "</div>"
            ],
            "text/plain": [
              "   cat  dog  goat  mat  on  sat  the\n",
              "0    1    0     0    1   1    1    1\n",
              "1    0    1     0    1   1    1    1\n",
              "2    0    0     1    1   1    1    1"
            ]
          },
          "metadata": {
            "tags": []
          },
          "execution_count": 2
        }
      ]
    },
    {
      "cell_type": "markdown",
      "metadata": {
        "id": "XqCEbqtfrOro",
        "colab_type": "text"
      },
      "source": [
        "In many cases it is often beneficial to drop *stop words*, such as *the*, *on*, *in* and similar, because they appear frequently, do not add meaning to the text and otherwise require resources to represent. Stop words differ between languages and lists for some languages are available from [https://www.ranks.nl/stopwords](https://www.ranks.nl/stopwords). Dropping stopwords can reduce vocabulary size and thus the overall size of a representation.\n",
        "\n",
        "**Exercise**:  Use the CountVectorizer object to remove English stop words.  See [here](#hint2 \"Use the stop_words= argument to the constructor\") for a hint."
      ]
    },
    {
      "cell_type": "code",
      "metadata": {
        "id": "qrq0PUCQrOrr",
        "colab_type": "code",
        "outputId": "4766e76c-5053-4040-e16b-4daaa40afb25",
        "colab": {
          "base_uri": "https://localhost:8080/",
          "height": 143
        }
      },
      "source": [
        "vectorizer = CountVectorizer(binary=True, stop_words='english') ##TODO## : Use CountVectorizer to remove English stopwords\n",
        "representation = vectorizer.fit_transform(corpus)\n",
        "representation_df = pd.DataFrame(data = representation.toarray(), columns=sorted(vectorizer.vocabulary_.keys()))\n",
        "representation_df"
      ],
      "execution_count": 3,
      "outputs": [
        {
          "output_type": "execute_result",
          "data": {
            "text/html": [
              "<div>\n",
              "<style scoped>\n",
              "    .dataframe tbody tr th:only-of-type {\n",
              "        vertical-align: middle;\n",
              "    }\n",
              "\n",
              "    .dataframe tbody tr th {\n",
              "        vertical-align: top;\n",
              "    }\n",
              "\n",
              "    .dataframe thead th {\n",
              "        text-align: right;\n",
              "    }\n",
              "</style>\n",
              "<table border=\"1\" class=\"dataframe\">\n",
              "  <thead>\n",
              "    <tr style=\"text-align: right;\">\n",
              "      <th></th>\n",
              "      <th>cat</th>\n",
              "      <th>dog</th>\n",
              "      <th>goat</th>\n",
              "      <th>mat</th>\n",
              "      <th>sat</th>\n",
              "    </tr>\n",
              "  </thead>\n",
              "  <tbody>\n",
              "    <tr>\n",
              "      <th>0</th>\n",
              "      <td>1</td>\n",
              "      <td>0</td>\n",
              "      <td>0</td>\n",
              "      <td>1</td>\n",
              "      <td>1</td>\n",
              "    </tr>\n",
              "    <tr>\n",
              "      <th>1</th>\n",
              "      <td>0</td>\n",
              "      <td>1</td>\n",
              "      <td>0</td>\n",
              "      <td>1</td>\n",
              "      <td>1</td>\n",
              "    </tr>\n",
              "    <tr>\n",
              "      <th>2</th>\n",
              "      <td>0</td>\n",
              "      <td>0</td>\n",
              "      <td>1</td>\n",
              "      <td>1</td>\n",
              "      <td>1</td>\n",
              "    </tr>\n",
              "  </tbody>\n",
              "</table>\n",
              "</div>"
            ],
            "text/plain": [
              "   cat  dog  goat  mat  sat\n",
              "0    1    0     0    1    1\n",
              "1    0    1     0    1    1\n",
              "2    0    0     1    1    1"
            ]
          },
          "metadata": {
            "tags": []
          },
          "execution_count": 3
        }
      ]
    },
    {
      "cell_type": "markdown",
      "metadata": {
        "id": "sO6GEJ0prOrz",
        "colab_type": "text"
      },
      "source": [
        "There are other ways to represent word counts such as [TF-IDF](https://en.wikipedia.org/wiki/Tf%E2%80%93idf) that takes into account how often a word appears in document in comparison to how often the word appears in a given corpus. This gives some weight to words that appear less frequently and de-emphasises common, more frequent words."
      ]
    },
    {
      "cell_type": "markdown",
      "metadata": {
        "id": "OeOH0mT7rOr1",
        "colab_type": "text"
      },
      "source": [
        "#### Issues with the Bag-of-Words Representation\n",
        "\n",
        "BoW is a good way to represent textural data and has been effectively used for regularly achieving 70-80 percent accuracy on various NLP tasks quickly and efficiently.  However, it suffers from three primary shortcomings:\n",
        "1.  Invariance to word order\n",
        "2.  Lack of semantic generalization\n",
        "3.  The representations are large, yet sparsely populated\n",
        "\n",
        "We will investigate each in turn.\n",
        "\n",
        "##### Invariance to Word Order\n",
        "In the above examples, notice that the BoW representation is unable to capture the original order in which the words appeared in the corpus.  To explore this concept further, consider the representation of sentences that use the same words but differ only in their ordering:\n"
      ]
    },
    {
      "cell_type": "code",
      "metadata": {
        "id": "LzjRx7N6rOr3",
        "colab_type": "code",
        "outputId": "5bcb416d-96e5-4a2d-de8f-e0e494b87f7b",
        "colab": {
          "base_uri": "https://localhost:8080/",
          "height": 143
        }
      },
      "source": [
        "ordering_corpus = ['The cat sat on the mat', 'the mat sat on the cat', 'Mat the cat the sat']\n",
        "ordering_vectorizer = CountVectorizer(lowercase=True, analyzer='word', binary=True, stop_words='english')\n",
        "representation = ordering_vectorizer.fit_transform(ordering_corpus)\n",
        "representation_df = pd.DataFrame(data = representation.toarray(), columns=sorted(ordering_vectorizer.vocabulary_.keys()))\n",
        "representation_df"
      ],
      "execution_count": 4,
      "outputs": [
        {
          "output_type": "execute_result",
          "data": {
            "text/html": [
              "<div>\n",
              "<style scoped>\n",
              "    .dataframe tbody tr th:only-of-type {\n",
              "        vertical-align: middle;\n",
              "    }\n",
              "\n",
              "    .dataframe tbody tr th {\n",
              "        vertical-align: top;\n",
              "    }\n",
              "\n",
              "    .dataframe thead th {\n",
              "        text-align: right;\n",
              "    }\n",
              "</style>\n",
              "<table border=\"1\" class=\"dataframe\">\n",
              "  <thead>\n",
              "    <tr style=\"text-align: right;\">\n",
              "      <th></th>\n",
              "      <th>cat</th>\n",
              "      <th>mat</th>\n",
              "      <th>sat</th>\n",
              "    </tr>\n",
              "  </thead>\n",
              "  <tbody>\n",
              "    <tr>\n",
              "      <th>0</th>\n",
              "      <td>1</td>\n",
              "      <td>1</td>\n",
              "      <td>1</td>\n",
              "    </tr>\n",
              "    <tr>\n",
              "      <th>1</th>\n",
              "      <td>1</td>\n",
              "      <td>1</td>\n",
              "      <td>1</td>\n",
              "    </tr>\n",
              "    <tr>\n",
              "      <th>2</th>\n",
              "      <td>1</td>\n",
              "      <td>1</td>\n",
              "      <td>1</td>\n",
              "    </tr>\n",
              "  </tbody>\n",
              "</table>\n",
              "</div>"
            ],
            "text/plain": [
              "   cat  mat  sat\n",
              "0    1    1    1\n",
              "1    1    1    1\n",
              "2    1    1    1"
            ]
          },
          "metadata": {
            "tags": []
          },
          "execution_count": 4
        }
      ]
    },
    {
      "cell_type": "markdown",
      "metadata": {
        "id": "lrXn-3I5rOr9",
        "colab_type": "text"
      },
      "source": [
        "Note that the representations are all identical.  In particular, note that the second sentence - unless used in a comical or cynical context - makes no sense and the third is not even grammatically correct in English.  While word order invariant representations are often sufficient for simple tasks, the inclusion of word order is required for achieving higher accuracy in many cases.\n",
        "\n",
        "##### Lack of Semantic Generalization\n",
        "Looking at original corpus of sentences above, it is clear that we can formulate them in the following manner:\n",
        "\n",
        "*The X sat on the mat*\n",
        "\n",
        "where *X* is an animal:  cat, dog or goat.  How are these represented in BoW?"
      ]
    },
    {
      "cell_type": "code",
      "metadata": {
        "id": "3NAGT1r-rOr_",
        "colab_type": "code",
        "outputId": "e5fc7596-13c5-4ea5-d052-c3e107a82341",
        "colab": {
          "base_uri": "https://localhost:8080/",
          "height": 34
        }
      },
      "source": [
        "vectorizer.vocabulary_"
      ],
      "execution_count": 5,
      "outputs": [
        {
          "output_type": "execute_result",
          "data": {
            "text/plain": [
              "{'cat': 0, 'dog': 1, 'goat': 2, 'mat': 3, 'sat': 4}"
            ]
          },
          "metadata": {
            "tags": []
          },
          "execution_count": 5
        }
      ]
    },
    {
      "cell_type": "markdown",
      "metadata": {
        "id": "vAhKcM2hrOsH",
        "colab_type": "text"
      },
      "source": [
        "So *cat* is the first feature (will appear in position 0 of a 1-hot encoded vector), *dog* is the second (position 1 of the vector) and so on.  It appears that in this case features are sorted by alphabetical order.  We can check by adding another animal, one that appears before *cat*:"
      ]
    },
    {
      "cell_type": "code",
      "metadata": {
        "id": "okR4vwGOrOsK",
        "colab_type": "code",
        "outputId": "a5e7d192-dcf6-4bb4-d97d-ea9af1581864",
        "colab": {
          "base_uri": "https://localhost:8080/",
          "height": 143
        }
      },
      "source": [
        "feature_corpus = ['The cat sat on the mat', 'The dog sat on the mat', 'The bird sat on the mat']\n",
        "feature_vectorizer = CountVectorizer(lowercase=True, analyzer='word', binary=True, stop_words='english')\n",
        "representation = feature_vectorizer.fit_transform(feature_corpus)\n",
        "representation_df = pd.DataFrame(data = representation.toarray(), columns=sorted(feature_vectorizer.vocabulary_.keys()))\n",
        "representation_df"
      ],
      "execution_count": 6,
      "outputs": [
        {
          "output_type": "execute_result",
          "data": {
            "text/html": [
              "<div>\n",
              "<style scoped>\n",
              "    .dataframe tbody tr th:only-of-type {\n",
              "        vertical-align: middle;\n",
              "    }\n",
              "\n",
              "    .dataframe tbody tr th {\n",
              "        vertical-align: top;\n",
              "    }\n",
              "\n",
              "    .dataframe thead th {\n",
              "        text-align: right;\n",
              "    }\n",
              "</style>\n",
              "<table border=\"1\" class=\"dataframe\">\n",
              "  <thead>\n",
              "    <tr style=\"text-align: right;\">\n",
              "      <th></th>\n",
              "      <th>bird</th>\n",
              "      <th>cat</th>\n",
              "      <th>dog</th>\n",
              "      <th>mat</th>\n",
              "      <th>sat</th>\n",
              "    </tr>\n",
              "  </thead>\n",
              "  <tbody>\n",
              "    <tr>\n",
              "      <th>0</th>\n",
              "      <td>0</td>\n",
              "      <td>1</td>\n",
              "      <td>0</td>\n",
              "      <td>1</td>\n",
              "      <td>1</td>\n",
              "    </tr>\n",
              "    <tr>\n",
              "      <th>1</th>\n",
              "      <td>0</td>\n",
              "      <td>0</td>\n",
              "      <td>1</td>\n",
              "      <td>1</td>\n",
              "      <td>1</td>\n",
              "    </tr>\n",
              "    <tr>\n",
              "      <th>2</th>\n",
              "      <td>1</td>\n",
              "      <td>0</td>\n",
              "      <td>0</td>\n",
              "      <td>1</td>\n",
              "      <td>1</td>\n",
              "    </tr>\n",
              "  </tbody>\n",
              "</table>\n",
              "</div>"
            ],
            "text/plain": [
              "   bird  cat  dog  mat  sat\n",
              "0     0    1    0    1    1\n",
              "1     0    0    1    1    1\n",
              "2     1    0    0    1    1"
            ]
          },
          "metadata": {
            "tags": []
          },
          "execution_count": 6
        }
      ]
    },
    {
      "cell_type": "markdown",
      "metadata": {
        "id": "eIrefcQErOsQ",
        "colab_type": "text"
      },
      "source": [
        "Now *bird* is the first feature, *cat* is the second and *dog* is the third.  \n",
        "\n",
        "In the book, we have multiple animals that sit on the mat (cat, dog, goat, elephant).  This implies that only animals are able to sit on the mat while other objects are not.  Let's now attempt to build a simple classification model for deciding whether *X on the mat* is an allowed state-of-affairs or not - in other words, a text classification problem.\n",
        "\n",
        "Note:  after running the cell below, please make sure that you do not change the contents of the *vectorizer* variable."
      ]
    },
    {
      "cell_type": "code",
      "metadata": {
        "id": "OdpTcBrsrOsS",
        "colab_type": "code",
        "outputId": "7b82c039-cb13-4f2e-8570-19573cb2fdf7",
        "colab": {
          "base_uri": "https://localhost:8080/",
          "height": 363
        }
      },
      "source": [
        "training_corpus = ['The cat sat on the mat', 'The dog sat on the mat', 'The goat sat on the mat', 'The elephant sat on the mat', \n",
        "          'The plane sat on the mat', 'The apple sat on the mat', 'The pen sat on the mat', 'The notebook sat on the mat']\n",
        "\n",
        "allowed = [1,1,1,1,   # Objects that are allowed on the mat\n",
        "           0,0,0,0]   # Objects that are not allowed on the mat\n",
        "\n",
        "# Make sure that words we'll use in the test set are considered\n",
        "for other_object in ['keyboard', 'bird']:\n",
        "    training_corpus.append(other_object)   \n",
        "    \n",
        "vectorizer = CountVectorizer(lowercase=True, analyzer='word', binary=True, stop_words='english')\n",
        "representation = vectorizer.fit_transform(training_corpus)\n",
        "representation_df = pd.DataFrame(data = representation.toarray(), columns=sorted(vectorizer.vocabulary_.keys()))\n",
        "representation_df"
      ],
      "execution_count": 7,
      "outputs": [
        {
          "output_type": "execute_result",
          "data": {
            "text/html": [
              "<div>\n",
              "<style scoped>\n",
              "    .dataframe tbody tr th:only-of-type {\n",
              "        vertical-align: middle;\n",
              "    }\n",
              "\n",
              "    .dataframe tbody tr th {\n",
              "        vertical-align: top;\n",
              "    }\n",
              "\n",
              "    .dataframe thead th {\n",
              "        text-align: right;\n",
              "    }\n",
              "</style>\n",
              "<table border=\"1\" class=\"dataframe\">\n",
              "  <thead>\n",
              "    <tr style=\"text-align: right;\">\n",
              "      <th></th>\n",
              "      <th>apple</th>\n",
              "      <th>bird</th>\n",
              "      <th>cat</th>\n",
              "      <th>dog</th>\n",
              "      <th>elephant</th>\n",
              "      <th>goat</th>\n",
              "      <th>keyboard</th>\n",
              "      <th>mat</th>\n",
              "      <th>notebook</th>\n",
              "      <th>pen</th>\n",
              "      <th>plane</th>\n",
              "      <th>sat</th>\n",
              "    </tr>\n",
              "  </thead>\n",
              "  <tbody>\n",
              "    <tr>\n",
              "      <th>0</th>\n",
              "      <td>0</td>\n",
              "      <td>0</td>\n",
              "      <td>1</td>\n",
              "      <td>0</td>\n",
              "      <td>0</td>\n",
              "      <td>0</td>\n",
              "      <td>0</td>\n",
              "      <td>1</td>\n",
              "      <td>0</td>\n",
              "      <td>0</td>\n",
              "      <td>0</td>\n",
              "      <td>1</td>\n",
              "    </tr>\n",
              "    <tr>\n",
              "      <th>1</th>\n",
              "      <td>0</td>\n",
              "      <td>0</td>\n",
              "      <td>0</td>\n",
              "      <td>1</td>\n",
              "      <td>0</td>\n",
              "      <td>0</td>\n",
              "      <td>0</td>\n",
              "      <td>1</td>\n",
              "      <td>0</td>\n",
              "      <td>0</td>\n",
              "      <td>0</td>\n",
              "      <td>1</td>\n",
              "    </tr>\n",
              "    <tr>\n",
              "      <th>2</th>\n",
              "      <td>0</td>\n",
              "      <td>0</td>\n",
              "      <td>0</td>\n",
              "      <td>0</td>\n",
              "      <td>0</td>\n",
              "      <td>1</td>\n",
              "      <td>0</td>\n",
              "      <td>1</td>\n",
              "      <td>0</td>\n",
              "      <td>0</td>\n",
              "      <td>0</td>\n",
              "      <td>1</td>\n",
              "    </tr>\n",
              "    <tr>\n",
              "      <th>3</th>\n",
              "      <td>0</td>\n",
              "      <td>0</td>\n",
              "      <td>0</td>\n",
              "      <td>0</td>\n",
              "      <td>1</td>\n",
              "      <td>0</td>\n",
              "      <td>0</td>\n",
              "      <td>1</td>\n",
              "      <td>0</td>\n",
              "      <td>0</td>\n",
              "      <td>0</td>\n",
              "      <td>1</td>\n",
              "    </tr>\n",
              "    <tr>\n",
              "      <th>4</th>\n",
              "      <td>0</td>\n",
              "      <td>0</td>\n",
              "      <td>0</td>\n",
              "      <td>0</td>\n",
              "      <td>0</td>\n",
              "      <td>0</td>\n",
              "      <td>0</td>\n",
              "      <td>1</td>\n",
              "      <td>0</td>\n",
              "      <td>0</td>\n",
              "      <td>1</td>\n",
              "      <td>1</td>\n",
              "    </tr>\n",
              "    <tr>\n",
              "      <th>5</th>\n",
              "      <td>1</td>\n",
              "      <td>0</td>\n",
              "      <td>0</td>\n",
              "      <td>0</td>\n",
              "      <td>0</td>\n",
              "      <td>0</td>\n",
              "      <td>0</td>\n",
              "      <td>1</td>\n",
              "      <td>0</td>\n",
              "      <td>0</td>\n",
              "      <td>0</td>\n",
              "      <td>1</td>\n",
              "    </tr>\n",
              "    <tr>\n",
              "      <th>6</th>\n",
              "      <td>0</td>\n",
              "      <td>0</td>\n",
              "      <td>0</td>\n",
              "      <td>0</td>\n",
              "      <td>0</td>\n",
              "      <td>0</td>\n",
              "      <td>0</td>\n",
              "      <td>1</td>\n",
              "      <td>0</td>\n",
              "      <td>1</td>\n",
              "      <td>0</td>\n",
              "      <td>1</td>\n",
              "    </tr>\n",
              "    <tr>\n",
              "      <th>7</th>\n",
              "      <td>0</td>\n",
              "      <td>0</td>\n",
              "      <td>0</td>\n",
              "      <td>0</td>\n",
              "      <td>0</td>\n",
              "      <td>0</td>\n",
              "      <td>0</td>\n",
              "      <td>1</td>\n",
              "      <td>1</td>\n",
              "      <td>0</td>\n",
              "      <td>0</td>\n",
              "      <td>1</td>\n",
              "    </tr>\n",
              "    <tr>\n",
              "      <th>8</th>\n",
              "      <td>0</td>\n",
              "      <td>0</td>\n",
              "      <td>0</td>\n",
              "      <td>0</td>\n",
              "      <td>0</td>\n",
              "      <td>0</td>\n",
              "      <td>1</td>\n",
              "      <td>0</td>\n",
              "      <td>0</td>\n",
              "      <td>0</td>\n",
              "      <td>0</td>\n",
              "      <td>0</td>\n",
              "    </tr>\n",
              "    <tr>\n",
              "      <th>9</th>\n",
              "      <td>0</td>\n",
              "      <td>1</td>\n",
              "      <td>0</td>\n",
              "      <td>0</td>\n",
              "      <td>0</td>\n",
              "      <td>0</td>\n",
              "      <td>0</td>\n",
              "      <td>0</td>\n",
              "      <td>0</td>\n",
              "      <td>0</td>\n",
              "      <td>0</td>\n",
              "      <td>0</td>\n",
              "    </tr>\n",
              "  </tbody>\n",
              "</table>\n",
              "</div>"
            ],
            "text/plain": [
              "   apple  bird  cat  dog  elephant  ...  mat  notebook  pen  plane  sat\n",
              "0      0     0    1    0         0  ...    1         0    0      0    1\n",
              "1      0     0    0    1         0  ...    1         0    0      0    1\n",
              "2      0     0    0    0         0  ...    1         0    0      0    1\n",
              "3      0     0    0    0         1  ...    1         0    0      0    1\n",
              "4      0     0    0    0         0  ...    1         0    0      1    1\n",
              "5      1     0    0    0         0  ...    1         0    0      0    1\n",
              "6      0     0    0    0         0  ...    1         0    1      0    1\n",
              "7      0     0    0    0         0  ...    1         1    0      0    1\n",
              "8      0     0    0    0         0  ...    0         0    0      0    0\n",
              "9      0     1    0    0         0  ...    0         0    0      0    0\n",
              "\n",
              "[10 rows x 12 columns]"
            ]
          },
          "metadata": {
            "tags": []
          },
          "execution_count": 7
        }
      ]
    },
    {
      "cell_type": "code",
      "metadata": {
        "id": "qL11aCDSrOsZ",
        "colab_type": "code",
        "outputId": "3c39cb93-9555-4697-bb1b-9132cc610a44",
        "colab": {
          "base_uri": "https://localhost:8080/",
          "height": 69
        }
      },
      "source": [
        "from sklearn.linear_model import LogisticRegression\n",
        "from sklearn.metrics import accuracy_score\n",
        "logistic = LogisticRegression()\n",
        "y = allowed\n",
        "X = representation_df[:len(y)]\n",
        "\n",
        "logistic.fit(X,y) # Only train on the first 8 sentences\n",
        "print(\"Training accuracy score is:  {} %\".format(accuracy_score(logistic.predict(X), y)*100.0))"
      ],
      "execution_count": 8,
      "outputs": [
        {
          "output_type": "stream",
          "text": [
            "Training accuracy score is:  100.0 %\n"
          ],
          "name": "stdout"
        },
        {
          "output_type": "stream",
          "text": [
            "/usr/local/lib/python3.6/dist-packages/sklearn/linear_model/logistic.py:432: FutureWarning: Default solver will be changed to 'lbfgs' in 0.22. Specify a solver to silence this warning.\n",
            "  FutureWarning)\n"
          ],
          "name": "stderr"
        }
      ]
    },
    {
      "cell_type": "markdown",
      "metadata": {
        "id": "LxiUZfxwrOsf",
        "colab_type": "text"
      },
      "source": [
        "We see that a simple [logistic regression](https://en.wikipedia.org/wiki/Logistic_regression) model (which is functionally equivalent to a single layer perceptron with logistic activation function) is able to learn our training data perfectly - animals are allowed on the mat, other objects are not.  Let's now see whether our model is able to *generalize* to other animals and objects:\n",
        "\n",
        "**Exercise**:  Transform the sentences in the test corpus into a BoW representation.  See [here](#hint3 \"X_test = vectorizer.transform(test_corpus)\") for the answer."
      ]
    },
    {
      "cell_type": "code",
      "metadata": {
        "id": "aaZVPoonrOsi",
        "colab_type": "code",
        "outputId": "fd76b126-082c-4df9-9651-7f580cdd0d5e",
        "colab": {
          "base_uri": "https://localhost:8080/",
          "height": 147
        }
      },
      "source": [
        "test_corpus = ['The keyboard sat on the mat', 'The bird sat on the mat']\n",
        "X_test = vectorizer.transform(test_corpus)\n",
        "y_test = [0,1]\n",
        "print(\"Expected Results for (keyboard, bird):  {}\".format(y_test))\n",
        "print(\"Actual   Results for (keyboard, bird):  {}\".format(logistic.predict(X_test)))\n",
        "pd.DataFrame(data = X_test.toarray(), columns=sorted(vectorizer.vocabulary_.keys()))"
      ],
      "execution_count": 9,
      "outputs": [
        {
          "output_type": "stream",
          "text": [
            "Expected Results for (keyboard, bird):  [0, 1]\n",
            "Actual   Results for (keyboard, bird):  [0 0]\n"
          ],
          "name": "stdout"
        },
        {
          "output_type": "execute_result",
          "data": {
            "text/html": [
              "<div>\n",
              "<style scoped>\n",
              "    .dataframe tbody tr th:only-of-type {\n",
              "        vertical-align: middle;\n",
              "    }\n",
              "\n",
              "    .dataframe tbody tr th {\n",
              "        vertical-align: top;\n",
              "    }\n",
              "\n",
              "    .dataframe thead th {\n",
              "        text-align: right;\n",
              "    }\n",
              "</style>\n",
              "<table border=\"1\" class=\"dataframe\">\n",
              "  <thead>\n",
              "    <tr style=\"text-align: right;\">\n",
              "      <th></th>\n",
              "      <th>apple</th>\n",
              "      <th>bird</th>\n",
              "      <th>cat</th>\n",
              "      <th>dog</th>\n",
              "      <th>elephant</th>\n",
              "      <th>goat</th>\n",
              "      <th>keyboard</th>\n",
              "      <th>mat</th>\n",
              "      <th>notebook</th>\n",
              "      <th>pen</th>\n",
              "      <th>plane</th>\n",
              "      <th>sat</th>\n",
              "    </tr>\n",
              "  </thead>\n",
              "  <tbody>\n",
              "    <tr>\n",
              "      <th>0</th>\n",
              "      <td>0</td>\n",
              "      <td>0</td>\n",
              "      <td>0</td>\n",
              "      <td>0</td>\n",
              "      <td>0</td>\n",
              "      <td>0</td>\n",
              "      <td>1</td>\n",
              "      <td>1</td>\n",
              "      <td>0</td>\n",
              "      <td>0</td>\n",
              "      <td>0</td>\n",
              "      <td>1</td>\n",
              "    </tr>\n",
              "    <tr>\n",
              "      <th>1</th>\n",
              "      <td>0</td>\n",
              "      <td>1</td>\n",
              "      <td>0</td>\n",
              "      <td>0</td>\n",
              "      <td>0</td>\n",
              "      <td>0</td>\n",
              "      <td>0</td>\n",
              "      <td>1</td>\n",
              "      <td>0</td>\n",
              "      <td>0</td>\n",
              "      <td>0</td>\n",
              "      <td>1</td>\n",
              "    </tr>\n",
              "  </tbody>\n",
              "</table>\n",
              "</div>"
            ],
            "text/plain": [
              "   apple  bird  cat  dog  elephant  ...  mat  notebook  pen  plane  sat\n",
              "0      0     0    0    0         0  ...    1         0    0      0    1\n",
              "1      0     1    0    0         0  ...    1         0    0      0    1\n",
              "\n",
              "[2 rows x 12 columns]"
            ]
          },
          "metadata": {
            "tags": []
          },
          "execution_count": 9
        }
      ]
    },
    {
      "cell_type": "markdown",
      "metadata": {
        "id": "LqtgwC0ZrOsn",
        "colab_type": "text"
      },
      "source": [
        "We see that this simple model was unable to capture the generalization that animals are allowed on the mat.  Perhaps a more powerful model would have been able to do this.  However, we would ideally like the notion of *animal* - a semantic concept - to be captured directly in the input representation if possible.  In other words, we'd like a representation that is 'smarter' in itself, regardless of the algorithm used.\n",
        "\n",
        "##### Sparseness\n",
        "In the BoW representation, every word is a feature.  So for large corpora, this means that a 1-hot encoded vector for a single sentence can be very long.  For example, in a vocabulary with 1000 words and 10 words per sentence, a single input vector will be 1000 x 10 \n",
        "= 10000 parameters.  A large corpus can easily contain many more words, and sentences can easily be 30 or 40 words long. The problem of large vocabularies and the computational complexity they bring is sometimes referred to as 'the curse of dimensionality'\n",
        "\n",
        "In addition, a single sentence normally contains only a small fraction of all possible words in the vocabulary.  This means that most values in our input will have the value 0. This is known as a sparse representation because the representation is only sparsely populated with data.  The result is that we have many parameters which in turn will require the use of a large amount of data for training a model or risk overfitting.  It is possible to use only the top *k* words from a vocabulary (as the [distribution of words in natural language](https://en.wikipedia.org/wiki/Zipf's_law) tends to have a small number of very frequent words), but this is only a stopgap measure and does not directly address the problem."
      ]
    },
    {
      "cell_type": "markdown",
      "metadata": {
        "id": "C5WcCIA7rOso",
        "colab_type": "text"
      },
      "source": [
        "# Distributed Representations, aka Word Embeddings\n"
      ]
    },
    {
      "cell_type": "markdown",
      "metadata": {
        "id": "GiS2cnzHrOsp",
        "colab_type": "text"
      },
      "source": [
        "Now that we have seen some of the issues that affect the BoW representation, how can Deep Learning help?  In this section we discuss how to create better representations using techniques based on neural networks.  "
      ]
    },
    {
      "cell_type": "markdown",
      "metadata": {
        "id": "54VRgljDrOsr",
        "colab_type": "text"
      },
      "source": [
        "### Some Help from Theoretical Linguistics"
      ]
    },
    {
      "cell_type": "markdown",
      "metadata": {
        "id": "xpJ1lGRrrOst",
        "colab_type": "text"
      },
      "source": [
        "In order to get a good intuition for word embeddings, it is helpful to look at the [Distributional Hypothesis](https://en.wikipedia.org/wiki/Distributional_semantics#Distributional_hypothesis) which was first formulated in the context of Linguistics, specifically, statistical semantics:\n",
        "\n",
        "> A word is characterized by the company it keeps \n",
        "\n",
        "> (Firth, 1957)\n",
        "\n",
        "In simple terms, the Distributional Hypothesis states that words that appear in similar *syntactic* contexts tend to have similar *semantic* meanings.  Stated differently:  words have similar meanings when the words that precede and/or follow them are the same.  Using our examples from above and designating the animal in each sentence as X:\n",
        "\n",
        "The *cat* sat on the mat\n",
        "\n",
        "The *dog* sat on the mat\n",
        "\n",
        "The *elephant* sat on the mat\n",
        "\n",
        "In all of those examples X is preceded by the word 'The' and followed by the words 'sat on'. More specifically, X is preceded by the sequence '`<PAD>` The', where `<PAD>` signifies a padding value used to indicate the beginning or ending of a sentence. This is known as a *context* of 2 words, with two 'words' captured on either side of the target word.  Indeed by definition all of these X's have something in common - they are animals.  Let's compare those examples to the following:\n",
        "\n",
        "The *quickly* sat on the mat\n",
        "\n",
        "Obviously, with the sentence being non-grammatical, the word *quickly* does not appear in the same context as our animals.  \n",
        "How about a valid sentence?\n",
        "\n",
        "The *monitor* sat on the mat\n",
        "\n",
        "While a noun in the position of X is grammatical, it does not make semantic sense and would probably not be used in regular, everyday speech.  By applying the Distributional Hypothesis we can now assume that *quickly* and *monitor* are not semantically similar to animals based on the text that we have available.\n",
        "\n"
      ]
    },
    {
      "cell_type": "markdown",
      "metadata": {
        "id": "9L44KwVKrOsv",
        "colab_type": "text"
      },
      "source": [
        "### Computing Word Embeddings"
      ]
    },
    {
      "cell_type": "markdown",
      "metadata": {
        "id": "awMPPdsDrOsx",
        "colab_type": "text"
      },
      "source": [
        "From a mathematical viewpoint, embeddings are a [dimensionality reduction](https://en.wikipedia.org/wiki/Dimensionality_reduction) technique.  In the BoW representation, every unique word is a single dimension, and there are $|V|$ dimensions altogether (where $V$ is the set of all words in the corpus).  Embeddings, on the other hand, are lower-dimensional, usually between 50 and 300 dimensions. Embeddings are also dense vectors, typically possessing a value for each of the dimensions present.  Each dimension is essentially a *latent factor* that encodes some information about that particular word.  Therefore, embeddings are also known as *distributed representations*.    \n",
        "\n",
        "Embeddings possess a particularly interesting property:  when trained on a large corpus, those latent factors tend to encode semantics from the corpus' domain!  In other words, the model learns concepts and ideas that are specific to that domain.  Probably the most well-known example is from Mikolov et al's 2013 influential [paper](https://arxiv.org/pdf/1301.3781.pdf)):\n",
        "\n",
        "*vector('king') - vector('man') + vector('woman') ~= vector('queen')*\n",
        "\n",
        "That is, when subtracting the embedding of 'man' from the embedding of 'king' and following that with the addition of the embedding of 'woman' (keeping in mind that embeddings are just vectors), the closest embedding to the result is the one for the word 'queen'.  Other examples are given in the paper from Mikolov.\n",
        "\n",
        "The paper just discussed introduces Word2Vec - an algorithm for computing word embeddings.  In this lab, we will compute word embeddings for a small corpus using this algorithm.  Specifically, we will use the *skip-gram* variant of the algorithm (the paper also describes a variant called *Continuous Bag-of-Words* or *CBOW* - see below). \n",
        "\n",
        "\n",
        "### Word2Vec  Skip-gram\n",
        "\n",
        "![](https://cdn-images-1.medium.com/max/800/1*SR6l59udY05_bUICAjb6-w.png)\n",
        "*Skip-gram architecture, source: Mikolov et al.*\n",
        "\n",
        "\n",
        "The skipgram algorithm functions by selecting pairs of target and context words and training a model to recognize whether the context word appears in the context window of the target.  For example, given the sentence *the cat sat on the mat*, the target word *sat* and a context window size of 1, the (target, context) pairs will be:\n",
        "* (sat, cat)\n",
        "* (sat, on)\n",
        "\n",
        "For a context window of size 2, an additional pair will be added: \n",
        "* (sat, the)  (note that 'the' appears both 2 words before and after 'sat')\n",
        "\n",
        "We begin by creating a model with two inputs, namely the target and context words.  Next, we add an *embedding layer*.  This layer is a matrix of size $|V|\\times d$, with $V$ as defined above and $d$ as the dimension of the embedding (which is a hyper-parameter).  Essentially, the embedding layer serves as a lookup table, where the (1-hot encoded) target and context words each select a single row (i.e., vector) from the matrix.  This row is the embedding, and it is up to our algorithm to learn it.\n",
        "\n",
        "The next step is to compute a similarity score between the two vectors using the dot product operator.  As explained above, words that are in similar contexts tend to have semantic similarities - hence we would like our model to learn that each (target, context) pair should have a high similarity score.  \n",
        "\n",
        "Finally, we use a technique called *negative sampling*.  In negative sampling, not only do we choose (target, context) pairs from a given sentence - we also choose pairs that *do not* appear in the sentence - i.e., (target,not(context)).  For these pairs, we would like the similarity score to be low.  An example for the same sentence:\n",
        "\n",
        "* (cat, sat) - Positive sample\n",
        "* (cat, dog) - Negative sample\n",
        "\n",
        "As such, our input dataset consists of (target, context) pairs and a labels which are either 0 or 1, depending on whether this pair is a positive or negative sample.  Note that while we have labels, this is actually an *unsupervised* problem, as we generate the labels directly from the text.  Therefore, it is possible to run this algorithm on large amounts of text without human involvement.  The algorithm will then produce embeddings that are specific to that corpus.\n",
        "\n",
        "For this lab, we will extend our corpus by adding more animals, as well as adding further actions and even nouns that denote furniture.  Recall that words for each category are semantically similar, as they appear in the same contexts."
      ]
    },
    {
      "cell_type": "code",
      "metadata": {
        "id": "CXLSbG12rOsy",
        "colab_type": "code",
        "outputId": "6bbd70a0-8ac9-423f-9a99-a1c15309e81c",
        "colab": {
          "base_uri": "https://localhost:8080/",
          "height": 34
        }
      },
      "source": [
        "import itertools\n",
        "\n",
        "animals = ['cat','dog','goat','elephant','eagle','zebra','rhino', 'hippo']\n",
        "actions = ['sat','stood','jumped','slept']\n",
        "furniture = ['mat','rug','sofa','bed']\n",
        "\n",
        "# Generate all combinations of animal, action and furniture\n",
        "animal_corpus = ['The {} {} on the {}'.format(x[0], x[1], x[2]) for x in itertools.product(animals, actions, furniture)]\n",
        "vocabulary_size = len(animals) + len(actions) + len(furniture) + 2\n",
        "\n",
        "print(\"There are {} sentences in the corpus, with a vocabulary of {} words\".format(len(animal_corpus), vocabulary_size))"
      ],
      "execution_count": 10,
      "outputs": [
        {
          "output_type": "stream",
          "text": [
            "There are 128 sentences in the corpus, with a vocabulary of 18 words\n"
          ],
          "name": "stdout"
        }
      ]
    },
    {
      "cell_type": "markdown",
      "metadata": {
        "id": "rzNW6CUPrOs6",
        "colab_type": "text"
      },
      "source": [
        "Once we have a corpus, we use PyTorch model construction. The initial step is to convert each sentence into a sequence of numbers, where each word has a unique index to be used in a 1-hot encoding.  While this construction is very similar to what happens in Bag-of-Words, the representation will only be used to train the embeddings and *not* for any additional, downstream NLP tasks. \n",
        "\n",
        "The *Tokenizer* object breaks sentences into words, lower-cases them and gets rid of any special characters such as punctuation.  It then assigns each word a unique index (as we just described).  The *skipgram* function then creates the (target, context) pairs.  We configure it to use negative sampling and have use a hyper-parameter for the context window size.  Interestingly, note that we do not drop stopwords here."
      ]
    },
    {
      "cell_type": "code",
      "metadata": {
        "id": "K4hWqly-rOs9",
        "colab_type": "code",
        "colab": {}
      },
      "source": [
        "import numpy as np\n",
        "import re\n",
        "import random\n",
        "\n",
        "# This is code for the Tokenizer (you don't need to understand it)\n",
        "class Tokenizer():\n",
        "    def __init__(self, num_words, filters='!\"#$%&()*+,-./:;<=>?@[\\]^_`{|}~', lower=True, split=' '):\n",
        "        self.num_words = num_words,\n",
        "        self.filters = filters\n",
        "        self.lower = lower\n",
        "        self.split = split\n",
        "        self.word_index = {'[OOV]':0}\n",
        "        self.index_word = ['[OOV]']\n",
        "    \n",
        "    def get_word_index(self, word):\n",
        "        if word in self.word_index:\n",
        "            return self.word_index[word]\n",
        "        else:\n",
        "            return 0\n",
        "    \n",
        "    def prepare_texts(self, corpus):\n",
        "        texts = []\n",
        "        for text in corpus:\n",
        "            text = re.sub('['+self.filters+']', '', text)\n",
        "            if self.lower:\n",
        "                text = text.lower()\n",
        "            words = text.split(self.split)\n",
        "            texts.append(words)\n",
        "        return texts\n",
        "    \n",
        "    def fit_on_texts(self,corpus):\n",
        "        corpus = self.prepare_texts(corpus)\n",
        "        words = sum(corpus, [])\n",
        "        for word in words:\n",
        "            if len(self.index_word) == self.num_words:\n",
        "                    return\n",
        "            if not word in self.word_index:\n",
        "                self.word_index[word] = len(self.index_word)\n",
        "                self.index_word.append(word)\n",
        "                \n",
        "    def texts_to_sequences(self, corpus):\n",
        "        corpus = self.prepare_texts(corpus)\n",
        "        return [[self.get_word_index(word) for word in text] for text in corpus]\n",
        "\n",
        "# This is code for the skipgram generation (you don't need to understand it)\n",
        "def skipgrams(sequence, vocabulary_size, window_size = 4, negative_samples = 1, shuffle = True):\n",
        "    couples = []\n",
        "    labels = []\n",
        "    for i, wi in enumerate(sequence):\n",
        "        if not wi:\n",
        "            continue\n",
        "            \n",
        "        window_start = max(0, i - window_size)\n",
        "        window_end = min(len(sequence), i + window_size + 1)\n",
        "        for j in range(window_start, window_end):\n",
        "            if j != i:\n",
        "                wj = sequence[j]\n",
        "                if not wj:\n",
        "                    continue\n",
        "                couples.append([wi, wj])\n",
        "                labels.append(1)\n",
        "\n",
        "    if negative_samples > 0:\n",
        "        num_negative_samples = int(len(labels) * negative_samples)\n",
        "        words = [c[0] for c in couples]\n",
        "        random.shuffle(words)\n",
        "\n",
        "        couples += [[words[i % len(words)], random.randint(1, vocabulary_size - 1)] for i in range(num_negative_samples)]\n",
        "        labels += [0] * num_negative_samples\n",
        "\n",
        "    if shuffle:\n",
        "        seed = random.randint(0, 10e6)\n",
        "        random.shuffle(couples)\n",
        "        random.shuffle(labels)\n",
        "\n",
        "    return couples, labels"
      ],
      "execution_count": 0,
      "outputs": []
    },
    {
      "cell_type": "code",
      "metadata": {
        "id": "-9XjjqubrOtB",
        "colab_type": "code",
        "outputId": "c2b29d11-c2bf-4568-c1ef-8d738a2b2daf",
        "colab": {
          "base_uri": "https://localhost:8080/",
          "height": 34
        }
      },
      "source": [
        "# Hyper-parameters\n",
        "\n",
        "EMBEDDING_SIZE = 7  # Small corpus, so we're using a small dimension\n",
        "WINDOW_SIZE = 4     # Empirically found to work well\n",
        "\n",
        "# Convert text to numerical sequences\n",
        "\n",
        "# Note that the Tokenizer starts numbering words with 1.  So we have vocabulary_size+1 words.  The 0-th word\n",
        "# is considered to be the 'Out-of-vocabulary' token.\n",
        "tokenizer = Tokenizer(num_words=vocabulary_size+1, filters='!\"#$%&()*+,-./:;<=>?@[\\]^_`{|}~', lower=True, split=' ',)\n",
        "tokenizer.fit_on_texts(animal_corpus)\n",
        "sequences = tokenizer.texts_to_sequences(animal_corpus)\n",
        "\n",
        "# Generate (target, context) pairs with negative sampling\n",
        "\n",
        "pairs = []\n",
        "labels = []\n",
        "\n",
        "for this_sequence in sequences:\n",
        "    # Again note the vocabulary_size+1 expression\n",
        "    c, l = skipgrams(this_sequence, vocabulary_size+1, window_size=WINDOW_SIZE, negative_samples=1, shuffle=True)\n",
        "    for i in range(len(c)):\n",
        "        pairs.append(c[i])\n",
        "        labels.append(l[i])\n",
        "pairs = np.array(pairs)\n",
        "labels = np.array(labels)\n",
        "    \n",
        "print(\"There are {} (context,target) pairs in the dataset\".format(len(pairs)))"
      ],
      "execution_count": 12,
      "outputs": [
        {
          "output_type": "stream",
          "text": [
            "There are 7168 (context,target) pairs in the dataset\n"
          ],
          "name": "stdout"
        }
      ]
    },
    {
      "cell_type": "markdown",
      "metadata": {
        "id": "De1D7SSVrOtH",
        "colab_type": "text"
      },
      "source": [
        "We now build and train the model.\n",
        "\n",
        "**Exercise**: For this exercise we'll be creating our own PyTorch Module. Just like nn.Sequential can be used to create a numpy model with many modules, we can define our own class. The advantage of using your own class is that the network doesn't have to be strictly linear. In this case when using skipgrams we want to input two integers representations of words, extract their embeddings, calculate the dot product, and then predict if they are in the same window or not.\n",
        "\n",
        "The \\__init__() function is where we define the components of our Module. For this task this has already been done.\n",
        "The forward() function is the function that is called when a Module is given data as input. Your task is to complete the forward() function by completing the unfinished lines of code.\n",
        "\n",
        "To do the dot product we do first simple multiplication and then sum the resulting vector. The sum function is implemented in PyTorch so you should be able to find it online if you get stuck.\n",
        "\n",
        "The cell below that will train the network and does not need to be changed."
      ]
    },
    {
      "cell_type": "code",
      "metadata": {
        "id": "PXEapG10rOtJ",
        "colab_type": "code",
        "colab": {}
      },
      "source": [
        "import torch\n",
        "import torch.nn as nn\n",
        "\n",
        "device = torch.device(\"cuda\" if torch.cuda.is_available() else \"cpu\")\n",
        "\n",
        "class SkipgramEmbedder(nn.Module):\n",
        "    \n",
        "    def __init__(self):\n",
        "        super().__init__()\n",
        "        \n",
        "        self.embedding_layer = nn.Embedding(vocabulary_size+1, EMBEDDING_SIZE,)\n",
        "        self.output_layer = nn.Linear(1,1)\n",
        "        self.sigmoid = nn.Sigmoid()\n",
        "    \n",
        "    def forward(self, target_word, context_word):\n",
        "        ##TODO## : Extract the embedding of the target word from the embedding layer\n",
        "        target_embedding = self.embedding_layer(target_word)\n",
        "        ##TODO## : Extract the embedding of the context word from the embedding layer\n",
        "        context_embedding = self.embedding_layer(context_word)\n",
        "        output = torch.sum(target_embedding * context_embedding, dim=1)\n",
        "        output = output.unsqueeze(-1) # Adding an inner dimension to make PyTorch differentiate batches from data \n",
        "        output = self.output_layer(output) ##TODO## : Run the sum through the output layer\n",
        "        output = self.sigmoid(output) ##TODO## : Normalize the output layer with a sigmoid function\n",
        "        return output\n",
        "\n",
        "model = SkipgramEmbedder()\n",
        "optimizer = torch.optim.RMSprop(model.parameters(), lr=0.001)\n",
        "#optimizer = torch.optim.SGD(model.parameters(), lr=0.001)\n",
        "#optimizer = torch.optim.Adagrad(model.parameters(), lr=0.01)\n",
        "loss_function = nn.BCELoss()\n"
      ],
      "execution_count": 0,
      "outputs": []
    },
    {
      "cell_type": "code",
      "metadata": {
        "id": "EYeqDPinrOtP",
        "colab_type": "code",
        "outputId": "18038a0f-2c01-46ed-d505-3991667dd4c6",
        "colab": {
          "base_uri": "https://localhost:8080/",
          "height": 89
        }
      },
      "source": [
        "#Epochs\n",
        "TOTAL_EPOCHS = 500\n",
        "BATCH_SIZE = 256\n",
        "\n",
        "# For each epoch\n",
        "for epoch in range(TOTAL_EPOCHS):\n",
        "    \n",
        "    # A variable for containing the sum of all batch losses for this epoch\n",
        "    epoch_loss = 0\n",
        "    \n",
        "    # Lower index\n",
        "    start = 0\n",
        "    \n",
        "    # For each batch\n",
        "    for batch_nr, end in enumerate(range(BATCH_SIZE,len(labels),BATCH_SIZE)):\n",
        "        \n",
        "        targets = torch.Tensor(pairs[start:end,0]).long()\n",
        "        contexts = torch.Tensor(pairs[start:end,1]).long()\n",
        "        label = torch.Tensor(labels[start:end])\n",
        "        \n",
        "        start = end\n",
        "        \n",
        "        # Predict for each digit in the batch whatclass they belong to\n",
        "        prediction = model(targets, contexts)\n",
        "        \n",
        "        # Calculate the loss of the prediction by comparing to the expected output\n",
        "        loss = loss_function(prediction, label)\n",
        "        \n",
        "        # Backpropogate the loss through the network to find the gradients of all parameters\n",
        "        loss.backward()\n",
        "        \n",
        "        # Update the parameters along their gradients\n",
        "        optimizer.step()\n",
        "        \n",
        "        # Clear stored gradient values\n",
        "        optimizer.zero_grad()\n",
        "        \n",
        "        # Add the loss to the total epoch loss (item() turns a PyTorch scalar into a normal Python datatype)\n",
        "        epoch_loss += loss.item()\n",
        "        \n",
        "        #Print the epoch, batch, and loss\n",
        "        print(\n",
        "            '\\rEpoch {} [{}/{}] - Loss: {}'.format(\n",
        "                epoch+1, batch_nr+1, len(labels)/BATCH_SIZE, loss\n",
        "            ),\n",
        "            end=''\n",
        "        )\n"
      ],
      "execution_count": 19,
      "outputs": [
        {
          "output_type": "stream",
          "text": [
            "/usr/local/lib/python3.6/dist-packages/torch/nn/modules/loss.py:498: UserWarning: Using a target size (torch.Size([256])) that is different to the input size (torch.Size([256, 1])) is deprecated. Please ensure they have the same size.\n",
            "  return F.binary_cross_entropy(input, target, weight=self.weight, reduction=self.reduction)\n"
          ],
          "name": "stderr"
        },
        {
          "output_type": "stream",
          "text": [
            "Epoch 500 [27/28.0] - Loss: 0.6921418309211731"
          ],
          "name": "stdout"
        }
      ]
    },
    {
      "cell_type": "markdown",
      "metadata": {
        "id": "tRn6F62nrOtV",
        "colab_type": "text"
      },
      "source": [
        "We discussed the fact that embeddings capture the semantics inherent in the corpus.  Hence, it would be interesting to look 'inside' our results.  We'll try a dimensionality-reduction operation so that we can plot the learned representations on a 2-D plane (our computer screen).  One possible technique is [Principal Component Analysis (PCA)](https://en.wikipedia.org/wiki/Principal_component_analysis). You can read more about PCA in [Section 2.12 in the course book Deep Learning](http://www.deeplearningbook.org/contents/linear_algebra.html). We use the PCA functionality in Python's [Scikit-Learn](http://scikit-learn.org/stable/index.html) library, and color the embeddings based on their categories.  'Good' embeddings will show up as well-defined clusters - individual words will be closer to words of the same category than to words of other categories.  Try running the previous cell multiple times and observe the results."
      ]
    },
    {
      "cell_type": "code",
      "metadata": {
        "id": "si2j8rCErOtW",
        "colab_type": "code",
        "outputId": "4a6b1779-fa3c-4a3d-e4c8-54c71c641145",
        "colab": {
          "base_uri": "https://localhost:8080/",
          "height": 607
        }
      },
      "source": [
        "%matplotlib inline\n",
        "from sklearn.decomposition import PCA\n",
        "from matplotlib import pyplot as plt\n",
        "\n",
        "\n",
        "category_colors = {'animals' : 'green', \n",
        "                   'actions' : 'blue',\n",
        "                   'furniture' : 'yellow'}\n",
        "\n",
        "colors = []\n",
        "for i in range(vocabulary_size):\n",
        "    colors.append('red')\n",
        "    \n",
        "for word in tokenizer.word_index:\n",
        "    index = tokenizer.word_index[word] -1\n",
        "    if word in animals:\n",
        "        colors[index] = category_colors['animals']\n",
        "    elif word in actions:\n",
        "        colors[index] = category_colors['actions']\n",
        "    elif word in furniture:\n",
        "        colors[index] = category_colors['furniture']\n",
        "\n",
        "# Plots embeddings using PCA (you don't need to understand it)\n",
        "def plot_embeddings_after_pca(vectors):  \n",
        "        \"\"\"\n",
        "        Perform PCA and plot the resulting 2 components on X and Y axis\n",
        "        Args:\n",
        "          embedding_weights - the set of vectors to \n",
        "        \"\"\"\n",
        "        pca = PCA(n_components=2)\n",
        "        vectors_pca = pca.fit_transform(vectors)\n",
        "        plt.figure(figsize=(20,10))\n",
        "        \n",
        "        # We do not draw the first element, which is the 'Out-of-Vocabulary' token\n",
        "        plt.scatter(vectors_pca[1:,0], vectors_pca[1:,1], c=colors, s=100, alpha=0.3);\n",
        "        plt.title('Embeddings after PCA')\n",
        "        legend_elements = [\n",
        "                    plt.Line2D([0], [0], marker='o', color=category_colors['animals'], label='Animals'),\n",
        "                    plt.Line2D([0], [0], marker='o', color=category_colors['actions'], label='Actions'),\n",
        "                    plt.Line2D([0], [0], marker='o', color=category_colors['furniture'], label='Furniture'),\n",
        "                    plt.Line2D([0], [0], marker='o', color='red', label='Other'),\n",
        "                  ]\n",
        "\n",
        "        # Create the figure\n",
        "        plt.legend(handles=legend_elements);\n",
        "\n",
        "# Extracting the embeddings for every word in the vocabulary, detaching them from PyTorch, and turning them into numpy\n",
        "numpy_word_vectors = model.embedding_layer(torch.Tensor(range(vocabulary_size+1)).long()).detach().numpy()\n",
        "\n",
        "# Display the most significant axes of the word vectors using PCA\n",
        "plot_embeddings_after_pca(numpy_word_vectors)\n",
        "\n",
        "\n",
        "\n",
        "\n"
      ],
      "execution_count": 20,
      "outputs": [
        {
          "output_type": "display_data",
          "data": {
            "image/png": "[encoded data removed]",
            "text/plain": [
              "<Figure size 1440x720 with 1 Axes>"
            ]
          },
          "metadata": {
            "tags": []
          }
        }
      ]
    },
    {
      "cell_type": "markdown",
      "metadata": {
        "id": "cYYAVJUCrOta",
        "colab_type": "text"
      },
      "source": [
        "#### Exercise\n",
        "1.  Experiment with embedding and context window sizes to get some intuition for how they affect the final results.\n",
        "*Reducing window size strangely led to better loss, but the graph was centered (so worse, less splitted)*\n",
        "![image.png](data:image/png;base64,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) \n",
        "*Increasing it over 5 did not improve anything but the point were scattered.*\n",
        "2.  Try replacing the dot product operation with other ways of combining two vectors (like subtraction, minumum, concatenation, etc). How do these affect the embedding quality?\n",
        "*Replacing multiplication with substraction was strangely better* ![image.png](data:image/png;base64,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)\n",
        "3.  How does the choice of epochs and/or optimizer affect the embedding quality?\n",
        "*Changing epochs don't change since much since about 300 is way sufficient. Changing optimizer affet speed : RMSprop and Adagrad were as fast, where SGD was way slower, but didn't oscillate.*"
      ]
    },
    {
      "cell_type": "markdown",
      "metadata": {
        "id": "YqpdZBsgrOtb",
        "colab_type": "text"
      },
      "source": [
        "### Code Exercise - Implementing CBoW\n",
        "\n",
        "In the previous section, we experimented with the *skip-gram* version of Word2Vec.  As mentioned, there is also a different variant named *Continuous Bag-of-Words (CBoW)*.  Recall that the Bag-of-Words representation does not take word order into account.  The CBoW approach is similar - but generates distributed representations in contrast to the discrete and sparse representation generated by BoW.\n",
        "\n",
        "In this section, you will implement the CBoW approach from Word2Vec.\n",
        "\n",
        "#### CBoW Approach\n",
        "\n",
        "![](https://cdn-images-1.medium.com/max/800/1*UVe8b6CWYykcxbBOR6uCfg.png)\n",
        "*CBoW architecture, slightly modified from Mikolov et al.*\n",
        "\n",
        "In contrast to skip-grams, CBoW considers all words on each side of the target word simultaneously.  In the figure above, $w(t-1)$ and $w(t-2)$ are the embeddings of the context words that appear to the left of the target word while $w(t+1)$ and $w(t+2)$ are those content words that appear to the right.  In this case, the window size is 2, and in total there are 4 context words.  Once the context words are identified, the next stage is taking the *mean* of the context embeddings.  In truth, any operation that merges the context embeddings could work, such as $sum$. At this point, word order is lost and this is where the Bag-of-Words name derives from. From there on, it is a simple matter of attaching a [softmax](https://en.wikipedia.org/wiki/Softmax_function) activation for selecting the 1-hot encoded context word (denoted $w(t)$).\n",
        "\n",
        "The following cell contains the code to generate sequences of length *window_size*, along with the 1-hot encoded representation of the context word."
      ]
    },
    {
      "cell_type": "code",
      "metadata": {
        "id": "4zMcOiBcrOtd",
        "colab_type": "code",
        "outputId": "a976d8ad-1af9-4616-9c43-9d043ffca180",
        "colab": {
          "base_uri": "https://localhost:8080/",
          "height": 52
        }
      },
      "source": [
        "import torch\n",
        "import torch.nn as nn\n",
        "\n",
        "device = torch.device(\"cuda\" if torch.cuda.is_available() else \"cpu\")\n",
        "\n",
        "window_size = 2\n",
        "\n",
        "# Takes the data and extracts the word (y) and its context (X)\n",
        "def make_cbow_data(sequences, window_size):\n",
        "    X = []\n",
        "    y = []\n",
        "    num_classes = len(np.unique(np.hstack(sequences)))+1\n",
        "    for this_sequence in sequences:\n",
        "        for output_index, this_word in enumerate(this_sequence):\n",
        "            this_input = []\n",
        "            y.append(this_word)\n",
        "            input_indices = [output_index - i for i in range(window_size,0,-1)]\n",
        "            input_indices += [output_index + i for i in range(1, window_size+1)]\n",
        "            for i in input_indices:\n",
        "                this_input.append(this_sequence[i] if i >= 0 and i < len(this_sequence) else 0)\n",
        "            X.append(this_input)\n",
        "    return num_classes, np.array(X),np.array(y)\n",
        "                \n",
        "   \n",
        "        \n",
        "num_classes, cbow_X, cbow_y = make_cbow_data(sequences, window_size)\n",
        "print(\"cbow_X shape: {}\".format(cbow_X.shape))\n",
        "print(\"cbow_y shape: {}\".format(cbow_y.shape))"
      ],
      "execution_count": 0,
      "outputs": [
        {
          "output_type": "stream",
          "text": [
            "cbow_X shape: (768, 4)\n",
            "cbow_y shape: (768,)\n"
          ],
          "name": "stdout"
        }
      ]
    },
    {
      "cell_type": "markdown",
      "metadata": {
        "id": "4HND431KrOti",
        "colab_type": "text"
      },
      "source": [
        "**Exercise**\n",
        "This exercise is similar to the skipgram embedder in that it too requires you to finish an incomplete nn.Module. However the CBoW embedder only takes a single input (the integers of the context words in the window) and tries to classify what word should be in the centre of the window. First it extracts all the context words' embeddings, then it takes the average of them, which is then given to a single layer network to predict the target word.\n",
        "\n",
        "Just like with the sum in the earlier task the mean is implemented in PyTorch and a quick search online should help you find it."
      ]
    },
    {
      "cell_type": "code",
      "metadata": {
        "id": "ba9tabxMrOtk",
        "colab_type": "code",
        "colab": {}
      },
      "source": [
        "import torch\n",
        "import torch.nn as nn\n",
        "\n",
        "class CBoWEmbedder(nn.Module):\n",
        "    \n",
        "    def __init__(self):\n",
        "        super(CBoWEmbedder, self).__init__()\n",
        "        \n",
        "        self.embedding_layer = nn.Embedding(vocabulary_size+1, EMBEDDING_SIZE,)\n",
        "        self.output_layer = nn.Linear(EMBEDDING_SIZE,vocabulary_size+1)\n",
        "        self.logsoftmax = nn.LogSoftmax(dim=1)\n",
        "    \n",
        "    def forward(self, inputs):\n",
        "        embeddings = self.embedding_layer(inputs) ## TODO ## : Extract the embeddings of all context words\n",
        "        output = torch.mean(embeddings, dim=1) ## TODO ## : Compute the mean of embeddings\n",
        "        output = self.output_layer(output) ##TODO## : Run the mean through the output layer\n",
        "        output = self.logsoftmax(output) ##TODO## : Use the logsoftmax function\n",
        "        return output\n",
        "\n",
        "model = CBoWEmbedder()\n",
        "optimizer = torch.optim.RMSprop(model.parameters(), lr=0.0001)\n",
        "loss_function = nn.CrossEntropyLoss()\n"
      ],
      "execution_count": 0,
      "outputs": []
    },
    {
      "cell_type": "markdown",
      "metadata": {
        "id": "f0k131TvrOto",
        "colab_type": "text"
      },
      "source": [
        "You can now train the model, and compare the embeddings generated by CBoW to those of skipgram above."
      ]
    },
    {
      "cell_type": "code",
      "metadata": {
        "id": "3Prhh30MrOtp",
        "colab_type": "code",
        "outputId": "dfad2206-90cb-4798-e929-ab8a0c822e24",
        "colab": {
          "base_uri": "https://localhost:8080/",
          "height": 52
        }
      },
      "source": [
        "#Epochs\n",
        "TOTAL_EPOCHS = 1500\n",
        "BATCH_SIZE = 256\n",
        "\n",
        "# For each epoch\n",
        "for epoch in range(TOTAL_EPOCHS):\n",
        "    \n",
        "    # A variable for containing the sum of all batch losses for this epoch\n",
        "    epoch_loss = 0\n",
        "    \n",
        "    # Lower index\n",
        "    start = 0\n",
        "    \n",
        "    # For each batch\n",
        "    for batch_nr, end in enumerate(range(BATCH_SIZE,len(cbow_X),BATCH_SIZE)):\n",
        "        \n",
        "        inputs = torch.Tensor(cbow_X[start:end,:]).long()\n",
        "        labels = torch.Tensor(cbow_y[start:end]).long()\n",
        "        \n",
        "        start = end\n",
        "        \n",
        "        # Predict for each digit in the batch whatclass they belong to\n",
        "        prediction = model(inputs)\n",
        "\n",
        "        # Calculate the loss of the prediction by comparing to the expected output\n",
        "        loss = loss_function(prediction, labels)\n",
        "        \n",
        "        # Backpropogate the loss through the network to find the gradients of all parameters\n",
        "        loss.backward()\n",
        "        \n",
        "        # Update the parameters along their gradients\n",
        "        optimizer.step()\n",
        "        \n",
        "        # Clear stored gradient values\n",
        "        optimizer.zero_grad()\n",
        "        \n",
        "        # Add the loss to the total epoch loss (item() turns a PyTorch scalar into a normal Python datatype)\n",
        "        epoch_loss += loss.item()\n",
        "        \n",
        "        #Print the epoch, batch, and loss\n",
        "        print(\n",
        "            '\\rEpoch {} [{}/{}] - Loss: {}'.format(\n",
        "                epoch+1, batch_nr+1, len(labels)/BATCH_SIZE, loss\n",
        "            ),\n",
        "            end=''\n",
        "        )"
      ],
      "execution_count": 0,
      "outputs": [
        {
          "output_type": "stream",
          "text": [
            "(768, 4)\n",
            "Epoch 1500 [2/1.0] - Loss: 2.037320375442505"
          ],
          "name": "stdout"
        }
      ]
    },
    {
      "cell_type": "code",
      "metadata": {
        "id": "_9wcXgrprOtt",
        "colab_type": "code",
        "outputId": "bd53d21a-b253-456e-d914-2bda117300aa",
        "colab": {
          "base_uri": "https://localhost:8080/",
          "height": 607
        }
      },
      "source": [
        "plot_embeddings_after_pca(model.embedding_layer(torch.Tensor(range(vocabulary_size+1)).long()).detach().numpy())"
      ],
      "execution_count": 0,
      "outputs": [
        {
          "output_type": "display_data",
          "data": {
            "image/png": "[encoded data removed]",
            "text/plain": [
              "<Figure size 1440x720 with 1 Axes>"
            ]
          },
          "metadata": {
            "tags": []
          }
        }
      ]
    },
    {
      "cell_type": "markdown",
      "metadata": {
        "id": "3wVtQhM2rOtz",
        "colab_type": "text"
      },
      "source": [
        "### Applying Word Embeddings\n",
        "\n",
        "In the next section, we'll see how to apply word embeddings that have been pre-trained.  We'll use embeddings generated using the *FastText* algorithm that was developed by Facebook AI.  It is similar to Word2Vec that we saw above in that it has both CBOW and Skipgram variants, but it performs the actual 'construction' of the embedding in a different way (and was specifically designed for languages that have complex [morphology](https://en.wikipedia.org/wiki/Morphology_(linguistics)).  Facebook has already trained embeddings on a large corpus (in this case, Wikipedia dumps for multiple languages) and makes this data available [on the Facebook Research GitHub site](https://github.com/facebookresearch/fastText/blob/bc1285939f1c216bd358425c3685a049dd8f56c0/docs/crawl-vectors.md).  This link also contains a reference to the paper describing the FastText algorithm.  \n",
        "\n",
        "We will repeat the small experiment we performed at the beginning of the lab, but this time we will use FastText word embeddings.  Will our classifier be able to generalize?\n",
        "\n",
        "**Exercise**\n",
        "What happens when you switch around what objects are allowed on the mat? Will the algorithm be able to learn? Why/why not?\n",
        "Can you make the algorithm think that only stationery are allowed on the mat? How about only vehicles? How can you test this (edit in the code if you must)?"
      ]
    },
    {
      "cell_type": "code",
      "metadata": {
        "id": "pdNZuFi3uY_X",
        "colab_type": "code",
        "outputId": "cd574a4c-2926-4fe0-c2de-a7acb395f937",
        "colab": {
          "base_uri": "https://localhost:8080/",
          "height": 176
        }
      },
      "source": [
        "from google.colab import drive\n",
        "drive.mount('/content/drive')\n",
        "!ls '/content/drive/My Drive/Colab Notebooks'"
      ],
      "execution_count": 21,
      "outputs": [
        {
          "output_type": "stream",
          "text": [
            "Go to this URL in a browser: https://accounts.google.com/o/oauth2/auth?client_id=947318989803-6bn6qk8qdgf4n4g3pfee6491hc0brc4i.apps.googleusercontent.com&redirect_uri=urn%3aietf%3awg%3aoauth%3a2.0%3aoob&response_type=code&scope=email%20https%3a%2f%2fwww.googleapis.com%2fauth%2fdocs.test%20https%3a%2f%2fwww.googleapis.com%2fauth%2fdrive%20https%3a%2f%2fwww.googleapis.com%2fauth%2fdrive.photos.readonly%20https%3a%2f%2fwww.googleapis.com%2fauth%2fpeopleapi.readonly\n",
            "\n",
            "Enter your authorization code:\n",
            "··········\n",
            "Mounted at /content/drive\n",
            " amazon_cells_labelled.txt   Exercise2.ipynb    wiki.simple.vec\n",
            "'ChatBot CNN.ipynb'\t     Exercise4.ipynb\n",
            " ChatBot.ipynb\t\t     glove.6B.50d.txt\n"
          ],
          "name": "stdout"
        }
      ]
    },
    {
      "cell_type": "code",
      "metadata": {
        "id": "1c6yMXtIrOt3",
        "colab_type": "code",
        "outputId": "12108382-e131-4825-c519-9038b2fefb02",
        "colab": {
          "base_uri": "https://localhost:8080/",
          "height": 72
        }
      },
      "source": [
        "from gensim.models import KeyedVectors\n",
        "\n",
        "# Load embeddings from the pre-trained file\n",
        "# The file can be found in Canvas and must be placed in the same directory as the notebook)\n",
        "fastText_embeddings = KeyedVectors.load_word2vec_format('/content/drive/My Drive/Colab Notebooks/wiki.simple.vec')"
      ],
      "execution_count": 22,
      "outputs": [
        {
          "output_type": "stream",
          "text": [
            "/usr/local/lib/python3.6/dist-packages/smart_open/smart_open_lib.py:402: UserWarning: This function is deprecated, use smart_open.open instead. See the migration notes for details: https://github.com/RaRe-Technologies/smart_open/blob/master/README.rst#migrating-to-the-new-open-function\n",
            "  'See the migration notes for details: %s' % _MIGRATION_NOTES_URL\n"
          ],
          "name": "stderr"
        }
      ]
    },
    {
      "cell_type": "code",
      "metadata": {
        "id": "82woR55arOt7",
        "colab_type": "code",
        "colab": {
          "base_uri": "https://localhost:8080/",
          "height": 121
        },
        "outputId": "efe24946-586a-4b07-d605-1fa32f19bfbc"
      },
      "source": [
        "\n",
        "import numpy as np\n",
        "\n",
        "def build_data_set(corpus):\n",
        "    \"\"\"\n",
        "    Iterate over all sentences in the corpus and for each word, copy the embedding to the appropriate indices\n",
        "    Args:\n",
        "      corpus - list of individual sentences in the corpus\n",
        "    Returns:\n",
        "      X - Matrix of 1-hot encodings of the sentences\n",
        "    \"\"\"\n",
        "    \n",
        "    # Assume all sentences are of equal length - otherwise we'll need to truncate or pad\n",
        "    words_in_sentence = len(corpus[0].split(' '))\n",
        "    \n",
        "    # Initialize \n",
        "    X = np.zeros((len(corpus), words_in_sentence * fastText_embeddings.vector_size))\n",
        "\n",
        "    for sent_index in range(len(corpus)):\n",
        "        words = corpus[sent_index].split(' ')\n",
        "        for word_index in range(len(words)):\n",
        "            start_index = fastText_embeddings.vector_size * word_index\n",
        "            end_index = fastText_embeddings.vector_size * (word_index + 1)\n",
        "            X[sent_index, start_index:end_index] = fastText_embeddings[words[word_index].lower()] \n",
        "    \n",
        "    return X\n",
        "            \n",
        "\n",
        "# Train the model - animals are allowed on the mat, other objects are not\n",
        "animal_training_corpus = [\n",
        "                   'The cat sat on the mat', \n",
        "                   'The dog sat on the mat', \n",
        "                   'The goat sat on the mat', \n",
        "                   'The elephant sat on the mat', \n",
        "                   'The plane sat on the mat', \n",
        "                   'The apple sat on the mat', \n",
        "                   'The pen sat on the mat', \n",
        "                   'The notebook sat on the mat'\n",
        "                   ]\n",
        "animal_allowed = np.array([1,1,1,1,0,0,0,0])\n",
        "# Static are allowed on the mat, other objects are not\n",
        "static_training_corpus = [\n",
        "                   'The cat sat on the mat', \n",
        "                   'The goat sat on the mat', \n",
        "                   'The elephant sat on the mat', \n",
        "                   'The plane sat on the mat', \n",
        "                   'The car sat on the mat',\n",
        "                   'The apple sat on the mat', \n",
        "                   'The pen sat on the mat', \n",
        "                   'The notebook sat on the mat',\n",
        "                   'The rock sat on the mat',\n",
        "                   'The house sat on the mat',\n",
        "                   ]\n",
        "static_allowed = np.array([0,0,0,0,0,1,1,1,1,1])\n",
        "vehicules_training_corpus = [\n",
        "                   'The cat sat on the mat', \n",
        "                   'The goat sat on the mat', \n",
        "                   'The elephant sat on the mat', \n",
        "                   'The plane sat on the mat', \n",
        "                   'The car sat on the mat',\n",
        "                   'The apple sat on the mat', \n",
        "                   'The pen sat on the mat', \n",
        "                   'The notebook sat on the mat',\n",
        "                   'The rock sat on the mat',\n",
        "                   'The house sat on the mat',\n",
        "                   ]\n",
        "vehicules_allowed = np.array([0,0,0,1,1,0,0,0,0,0])\n",
        "\n",
        "\n",
        "animal_X_train = build_data_set(animal_training_corpus)\n",
        "static_X_train = build_data_set(static_training_corpus)\n",
        "vehicules_X_train = build_data_set(vehicules_training_corpus)\n",
        "\n",
        "animal_logistic_embeddings = LogisticRegression()\n",
        "animal_logistic_embeddings.fit(animal_X_train, animal_allowed)\n",
        "static_logistic_embeddings = LogisticRegression()\n",
        "static_logistic_embeddings.fit(static_X_train, static_allowed)\n",
        "vehicules_logistic_embeddings = LogisticRegression()\n",
        "vehicules_logistic_embeddings.fit(vehicules_X_train, vehicules_allowed)\n",
        "\n",
        "        \n",
        "# Will the network be able to generalize?     \n",
        "words = [\"keyboard\", \"bird\", \"book\", \"car\", \"lizard\", \"tree\"]   \n",
        "test_corpus = [ 'The {} sat on the mat'.format(s) for s in words ]\n",
        "X_test = build_data_set(test_corpus)\n",
        "\n"
      ],
      "execution_count": 29,
      "outputs": [
        {
          "output_type": "stream",
          "text": [
            "/usr/local/lib/python3.6/dist-packages/sklearn/linear_model/logistic.py:432: FutureWarning: Default solver will be changed to 'lbfgs' in 0.22. Specify a solver to silence this warning.\n",
            "  FutureWarning)\n",
            "/usr/local/lib/python3.6/dist-packages/sklearn/linear_model/logistic.py:432: FutureWarning: Default solver will be changed to 'lbfgs' in 0.22. Specify a solver to silence this warning.\n",
            "  FutureWarning)\n",
            "/usr/local/lib/python3.6/dist-packages/sklearn/linear_model/logistic.py:432: FutureWarning: Default solver will be changed to 'lbfgs' in 0.22. Specify a solver to silence this warning.\n",
            "  FutureWarning)\n"
          ],
          "name": "stderr"
        }
      ]
    },
    {
      "cell_type": "code",
      "metadata": {
        "id": "91RGIGCZrOuA",
        "colab_type": "code",
        "outputId": "86cb0f5c-6433-4334-9880-3492f7df7b76",
        "colab": {
          "base_uri": "https://localhost:8080/",
          "height": 69
        }
      },
      "source": [
        "animal_y_test = [0,1,0,0,1,0]\n",
        "static_y_test = [1,0,1,0,0,1]\n",
        "vehicules_y_test = [0,0,0,1,0,0]\n",
        "\n",
        "print(\"Actual Results for {}: {} (expecting {})\".format(\"Animal\",animal_logistic_embeddings.predict(X_test),animal_y_test))\n",
        "print(\"Actual Results for {}: {} (expecting {})\".format(\"Static\",static_logistic_embeddings.predict(X_test),static_y_test))\n",
        "print(\"Actual Results for {}: {} (expecting {})\".format(\"Vehicules\",vehicules_logistic_embeddings.predict(X_test),vehicules_y_test))"
      ],
      "execution_count": 33,
      "outputs": [
        {
          "output_type": "stream",
          "text": [
            "Actual Results for Animal: [0 1 0 0 1 0] (expecting [0, 1, 0, 0, 1, 0])\n",
            "Actual Results for Static: [1 0 1 0 0 1] (expecting [1, 0, 1, 0, 0, 1])\n",
            "Actual Results for Vehicules: [0 0 0 1 0 0] (expecting [0, 0, 0, 1, 0, 0])\n"
          ],
          "name": "stdout"
        }
      ]
    },
    {
      "cell_type": "markdown",
      "metadata": {
        "id": "DslOUFwnrOuD",
        "colab_type": "text"
      },
      "source": [
        "### Summary\n",
        "\n",
        "In this lab, we discussed the use of word embeddings as a way to represent individual words to NLP algorithms.  We went over the issues that affect the Bag-of-Words representation, and saw how word embeddings can solve them.  We then used a small corpus to train our own embeddings, and finally used a pre-trained set of embeddings for solving a text classification problem.\n",
        "\n",
        "The concept of embeddings and distributed representations is very broad, and it will probably not surprise you to learn that there are techniques and algorithms for computing embeddings for sentences and even entire documents.  In fact, this is a one of the most active areas in NLP research.  These embeddings are able to capture semantic similarities in a domain, and so are ideal as the inputs for other, downstream NLP tasks.  \n",
        "\n",
        "Finally, here are some best practices for training your own embeddings:\n",
        "* Use a large corpus of domain-specific texts.  Using a general corpus (like Wikipedia) may affect your model's accuracy and performance for your specific application.  If you do not have a large amount of domain-specific texts, the use of *transfer learning* on pretrained embeddings may help.\n",
        "* Plan for a training process that will take a long time.  The use of a GPU (or multiple GPUs) is highly recommended.\n",
        "* You will need to tune both embedding dimensionality and context window size. The choices you make here will directly affect the accuracy of your model and the time required to train it."
      ]
    }
  ]
}