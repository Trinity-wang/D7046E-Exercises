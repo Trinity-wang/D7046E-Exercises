{
 "cells": [
  {
   "cell_type": "markdown",
   "metadata": {},
   "source": [
    "# Before you start\n",
    "\n",
    "Before you start this lab you'll need to install some additional packages in your conda environment. These packages are scikit-learn (sklearn), pandas and gensim. The getting started guidelines have been updated to include these packages.\n",
    "\n",
    "You'll also need to download the file 'wiki.simple.vec' from Canvas, which contains word embeddings that will be used in this exercise. Do **NOT** include 'wiki.simple.vec' in your submission of this exercise.\n",
    "\n",
    "The code for this exercise is only to be used for educational purposes."
   ]
  },
  {
   "cell_type": "markdown",
   "metadata": {},
   "source": [
    "# Introduction\n",
    "Natural Language Processing (NLP) is a set of techniques and algorithms that use computers for analyzing natural human language.  NLP can be used to solve a variety of problems, for example:\n",
    "\n",
    "* Subject Matter Identification - What are the topics, people, companies or places discussed in this text?\n",
    "* Sentiment Analysis - Does this text convey a positive, negative or neutral feeling about an entity or subject matter?\n",
    "* Machine Translation - Convert the input from one language to another, for example, from English to French\n",
    "* Text-to-Speech - Convert the spoken input into its written form\n",
    "* Understanding and Interpretation - What information will answer a specific question?\n",
    "\n",
    "Early NLP systems used rules manually designed by domain experts.  As the field advanced, the use of machine learning enabled the application of more powerful models that took advantage of ever-growing amounts of data.  In this exercise we are taking advantage of Deep Learning to tackle ever more complex NLP tasks.\n",
    "\n",
    "In this lab we will focus on the following:\n",
    "1. The bag-of-words representation and its shortcomings\n",
    "2. Computing word embeddings using the Word2Vec algorithm\n",
    "3. Applying pre-trained word embeddings to a text classification problem\n",
    "\n",
    "\n"
   ]
  },
  {
   "cell_type": "markdown",
   "metadata": {},
   "source": [
    "# The Importance of Data Representation in NLP"
   ]
  },
  {
   "cell_type": "markdown",
   "metadata": {},
   "source": [
    "One of the most important issues that data scientists encounter is how to represent their data to an algorithm.  This is especially relevant in NLP where inputs often differ in lengths, taking the form of sentences or even entire documents. Regardless of input length it is important to develop a representation that can capture similar themes and/or uses of domain-specific terms and vocabulary. We will demonstrate this using examples from Brian Wildsmith's wonderful children's book 'Cat on the Mat'.\n",
    "\n",
    "### Bag-of-Words Representation\n",
    "A common way of representing text is using the Bag-of-Words (BoW) approach, where we simply count the number of occurrences of each word in our *corpus*, a collection of individual texts or *documents*, for each individual item in the collection: "
   ]
  },
  {
   "cell_type": "code",
   "execution_count": 1,
   "metadata": {},
   "outputs": [
    {
     "data": {
      "text/html": [
       "<div>\n",
       "<style scoped>\n",
       "    .dataframe tbody tr th:only-of-type {\n",
       "        vertical-align: middle;\n",
       "    }\n",
       "\n",
       "    .dataframe tbody tr th {\n",
       "        vertical-align: top;\n",
       "    }\n",
       "\n",
       "    .dataframe thead th {\n",
       "        text-align: right;\n",
       "    }\n",
       "</style>\n",
       "<table border=\"1\" class=\"dataframe\">\n",
       "  <thead>\n",
       "    <tr style=\"text-align: right;\">\n",
       "      <th></th>\n",
       "      <th>cat</th>\n",
       "      <th>dog</th>\n",
       "      <th>goat</th>\n",
       "      <th>mat</th>\n",
       "      <th>on</th>\n",
       "      <th>sat</th>\n",
       "      <th>the</th>\n",
       "    </tr>\n",
       "  </thead>\n",
       "  <tbody>\n",
       "    <tr>\n",
       "      <th>0</th>\n",
       "      <td>1</td>\n",
       "      <td>0</td>\n",
       "      <td>0</td>\n",
       "      <td>1</td>\n",
       "      <td>1</td>\n",
       "      <td>1</td>\n",
       "      <td>2</td>\n",
       "    </tr>\n",
       "    <tr>\n",
       "      <th>1</th>\n",
       "      <td>0</td>\n",
       "      <td>1</td>\n",
       "      <td>0</td>\n",
       "      <td>1</td>\n",
       "      <td>1</td>\n",
       "      <td>1</td>\n",
       "      <td>2</td>\n",
       "    </tr>\n",
       "    <tr>\n",
       "      <th>2</th>\n",
       "      <td>0</td>\n",
       "      <td>0</td>\n",
       "      <td>1</td>\n",
       "      <td>1</td>\n",
       "      <td>1</td>\n",
       "      <td>1</td>\n",
       "      <td>2</td>\n",
       "    </tr>\n",
       "  </tbody>\n",
       "</table>\n",
       "</div>"
      ],
      "text/plain": [
       "   cat  dog  goat  mat  on  sat  the\n",
       "0    1    0     0    1   1    1    2\n",
       "1    0    1     0    1   1    1    2\n",
       "2    0    0     1    1   1    1    2"
      ]
     },
     "execution_count": 1,
     "metadata": {},
     "output_type": "execute_result"
    }
   ],
   "source": [
    "import pandas as pd\n",
    "from sklearn.feature_extraction.text import CountVectorizer\n",
    "from IPython.display import HTML\n",
    "\n",
    "corpus = ['The cat sat on the mat', 'The dog sat on the mat', 'The goat sat on the mat']\n",
    "\n",
    "vectorizer = CountVectorizer(lowercase=True, analyzer='word', binary=False)\n",
    "representation = vectorizer.fit_transform(corpus)\n",
    "representation_df = pd.DataFrame(data = representation.toarray(), columns=sorted(vectorizer.vocabulary_.keys()))\n",
    "representation_df"
   ]
  },
  {
   "cell_type": "markdown",
   "metadata": {},
   "source": [
    "For this representation we count how often a word appears in a given input. This count is typically referred to as a *term frequency*. The collection of all unique words for a corpus is referred to as the *vocabulary* for the corpus. In the Bag-of-Words representation, the size of the vocabulary plays a significant factor in the size of the representation of the text.\n",
    "\n"
   ]
  },
  {
   "cell_type": "markdown",
   "metadata": {},
   "source": [
    "A similar representation uses a binary value for each word as opposed to a discrete count. This is often referred to as a one-hot encoding. It has the advantage of being relatively compact because each word in a vocabulary is represented using a single bit. This representation is frequently used when term frequency is irrelevant to the application at hand.\n",
    "\n",
    "We use the *CountVectorizer* object from Python's Scikit-Learn package of Machine Learning tools and algorithms.  See the API for CountVectorizer [here](http://scikit-learn.org/stable/modules/generated/sklearn.feature_extraction.text.CountVectorizer.html).\n",
    "\n",
    "**Exercise**: Use the CountVectorizer object to create a binary value for each word.  See [here](#hint1 \"Use the binary= argument to the constructor\") if you need a hint."
   ]
  },
  {
   "cell_type": "code",
   "execution_count": 2,
   "metadata": {},
   "outputs": [
    {
     "data": {
      "text/html": [
       "<div>\n",
       "<style scoped>\n",
       "    .dataframe tbody tr th:only-of-type {\n",
       "        vertical-align: middle;\n",
       "    }\n",
       "\n",
       "    .dataframe tbody tr th {\n",
       "        vertical-align: top;\n",
       "    }\n",
       "\n",
       "    .dataframe thead th {\n",
       "        text-align: right;\n",
       "    }\n",
       "</style>\n",
       "<table border=\"1\" class=\"dataframe\">\n",
       "  <thead>\n",
       "    <tr style=\"text-align: right;\">\n",
       "      <th></th>\n",
       "      <th>cat</th>\n",
       "      <th>dog</th>\n",
       "      <th>goat</th>\n",
       "      <th>mat</th>\n",
       "      <th>on</th>\n",
       "      <th>sat</th>\n",
       "      <th>the</th>\n",
       "    </tr>\n",
       "  </thead>\n",
       "  <tbody>\n",
       "    <tr>\n",
       "      <th>0</th>\n",
       "      <td>1</td>\n",
       "      <td>0</td>\n",
       "      <td>0</td>\n",
       "      <td>1</td>\n",
       "      <td>1</td>\n",
       "      <td>1</td>\n",
       "      <td>1</td>\n",
       "    </tr>\n",
       "    <tr>\n",
       "      <th>1</th>\n",
       "      <td>0</td>\n",
       "      <td>1</td>\n",
       "      <td>0</td>\n",
       "      <td>1</td>\n",
       "      <td>1</td>\n",
       "      <td>1</td>\n",
       "      <td>1</td>\n",
       "    </tr>\n",
       "    <tr>\n",
       "      <th>2</th>\n",
       "      <td>0</td>\n",
       "      <td>0</td>\n",
       "      <td>1</td>\n",
       "      <td>1</td>\n",
       "      <td>1</td>\n",
       "      <td>1</td>\n",
       "      <td>1</td>\n",
       "    </tr>\n",
       "  </tbody>\n",
       "</table>\n",
       "</div>"
      ],
      "text/plain": [
       "   cat  dog  goat  mat  on  sat  the\n",
       "0    1    0     0    1   1    1    1\n",
       "1    0    1     0    1   1    1    1\n",
       "2    0    0     1    1   1    1    1"
      ]
     },
     "execution_count": 2,
     "metadata": {},
     "output_type": "execute_result"
    }
   ],
   "source": [
    "vectorizer = CountVectorizer(binary=True) ##TODO## : Use CountVectorizer to create a binary value for each word\n",
    "representation = vectorizer.fit_transform(corpus)\n",
    "representation_df = pd.DataFrame(data = representation.toarray(), columns=sorted(vectorizer.vocabulary_.keys()))\n",
    "representation_df"
   ]
  },
  {
   "cell_type": "markdown",
   "metadata": {},
   "source": [
    "In many cases it is often beneficial to drop *stop words*, such as *the*, *on*, *in* and similar, because they appear frequently, do not add meaning to the text and otherwise require resources to represent. Stop words differ between languages and lists for some languages are available from [https://www.ranks.nl/stopwords](https://www.ranks.nl/stopwords). Dropping stopwords can reduce vocabulary size and thus the overall size of a representation.\n",
    "\n",
    "**Exercise**:  Use the CountVectorizer object to remove English stop words.  See [here](#hint2 \"Use the stop_words= argument to the constructor\") for a hint."
   ]
  },
  {
   "cell_type": "code",
   "execution_count": 3,
   "metadata": {},
   "outputs": [
    {
     "data": {
      "text/html": [
       "<div>\n",
       "<style scoped>\n",
       "    .dataframe tbody tr th:only-of-type {\n",
       "        vertical-align: middle;\n",
       "    }\n",
       "\n",
       "    .dataframe tbody tr th {\n",
       "        vertical-align: top;\n",
       "    }\n",
       "\n",
       "    .dataframe thead th {\n",
       "        text-align: right;\n",
       "    }\n",
       "</style>\n",
       "<table border=\"1\" class=\"dataframe\">\n",
       "  <thead>\n",
       "    <tr style=\"text-align: right;\">\n",
       "      <th></th>\n",
       "      <th>cat</th>\n",
       "      <th>dog</th>\n",
       "      <th>goat</th>\n",
       "      <th>mat</th>\n",
       "      <th>sat</th>\n",
       "    </tr>\n",
       "  </thead>\n",
       "  <tbody>\n",
       "    <tr>\n",
       "      <th>0</th>\n",
       "      <td>1</td>\n",
       "      <td>0</td>\n",
       "      <td>0</td>\n",
       "      <td>1</td>\n",
       "      <td>1</td>\n",
       "    </tr>\n",
       "    <tr>\n",
       "      <th>1</th>\n",
       "      <td>0</td>\n",
       "      <td>1</td>\n",
       "      <td>0</td>\n",
       "      <td>1</td>\n",
       "      <td>1</td>\n",
       "    </tr>\n",
       "    <tr>\n",
       "      <th>2</th>\n",
       "      <td>0</td>\n",
       "      <td>0</td>\n",
       "      <td>1</td>\n",
       "      <td>1</td>\n",
       "      <td>1</td>\n",
       "    </tr>\n",
       "  </tbody>\n",
       "</table>\n",
       "</div>"
      ],
      "text/plain": [
       "   cat  dog  goat  mat  sat\n",
       "0    1    0     0    1    1\n",
       "1    0    1     0    1    1\n",
       "2    0    0     1    1    1"
      ]
     },
     "execution_count": 3,
     "metadata": {},
     "output_type": "execute_result"
    }
   ],
   "source": [
    "vectorizer = CountVectorizer(binary=True, stop_words='english') ##TODO## : Use CountVectorizer to remove English stopwords\n",
    "representation = vectorizer.fit_transform(corpus)\n",
    "representation_df = pd.DataFrame(data = representation.toarray(), columns=sorted(vectorizer.vocabulary_.keys()))\n",
    "representation_df"
   ]
  },
  {
   "cell_type": "markdown",
   "metadata": {},
   "source": [
    "There are other ways to represent word counts such as [TF-IDF](https://en.wikipedia.org/wiki/Tf%E2%80%93idf) that takes into account how often a word appears in document in comparison to how often the word appears in a given corpus. This gives some weight to words that appear less frequently and de-emphasises common, more frequent words."
   ]
  },
  {
   "cell_type": "markdown",
   "metadata": {},
   "source": [
    "#### Issues with the Bag-of-Words Representation\n",
    "\n",
    "BoW is a good way to represent textural data and has been effectively used for regularly achieving 70-80 percent accuracy on various NLP tasks quickly and efficiently.  However, it suffers from three primary shortcomings:\n",
    "1.  Invariance to word order\n",
    "2.  Lack of semantic generalization\n",
    "3.  The representations are large, yet sparsely populated\n",
    "\n",
    "We will investigate each in turn.\n",
    "\n",
    "##### Invariance to Word Order\n",
    "In the above examples, notice that the BoW representation is unable to capture the original order in which the words appeared in the corpus.  To explore this concept further, consider the representation of sentences that use the same words but differ only in their ordering:\n"
   ]
  },
  {
   "cell_type": "code",
   "execution_count": 4,
   "metadata": {},
   "outputs": [
    {
     "data": {
      "text/html": [
       "<div>\n",
       "<style scoped>\n",
       "    .dataframe tbody tr th:only-of-type {\n",
       "        vertical-align: middle;\n",
       "    }\n",
       "\n",
       "    .dataframe tbody tr th {\n",
       "        vertical-align: top;\n",
       "    }\n",
       "\n",
       "    .dataframe thead th {\n",
       "        text-align: right;\n",
       "    }\n",
       "</style>\n",
       "<table border=\"1\" class=\"dataframe\">\n",
       "  <thead>\n",
       "    <tr style=\"text-align: right;\">\n",
       "      <th></th>\n",
       "      <th>cat</th>\n",
       "      <th>mat</th>\n",
       "      <th>sat</th>\n",
       "    </tr>\n",
       "  </thead>\n",
       "  <tbody>\n",
       "    <tr>\n",
       "      <th>0</th>\n",
       "      <td>1</td>\n",
       "      <td>1</td>\n",
       "      <td>1</td>\n",
       "    </tr>\n",
       "    <tr>\n",
       "      <th>1</th>\n",
       "      <td>1</td>\n",
       "      <td>1</td>\n",
       "      <td>1</td>\n",
       "    </tr>\n",
       "    <tr>\n",
       "      <th>2</th>\n",
       "      <td>1</td>\n",
       "      <td>1</td>\n",
       "      <td>1</td>\n",
       "    </tr>\n",
       "  </tbody>\n",
       "</table>\n",
       "</div>"
      ],
      "text/plain": [
       "   cat  mat  sat\n",
       "0    1    1    1\n",
       "1    1    1    1\n",
       "2    1    1    1"
      ]
     },
     "execution_count": 4,
     "metadata": {},
     "output_type": "execute_result"
    }
   ],
   "source": [
    "ordering_corpus = ['The cat sat on the mat', 'the mat sat on the cat', 'Mat the cat the sat']\n",
    "ordering_vectorizer = CountVectorizer(lowercase=True, analyzer='word', binary=True, stop_words='english')\n",
    "representation = ordering_vectorizer.fit_transform(ordering_corpus)\n",
    "representation_df = pd.DataFrame(data = representation.toarray(), columns=sorted(ordering_vectorizer.vocabulary_.keys()))\n",
    "representation_df"
   ]
  },
  {
   "cell_type": "markdown",
   "metadata": {},
   "source": [
    "Note that the representations are all identical.  In particular, note that the second sentence - unless used in a comical or cynical context - makes no sense and the third is not even grammatically correct in English.  While word order invariant representations are often sufficient for simple tasks, the inclusion of word order is required for achieving higher accuracy in many cases.\n",
    "\n",
    "##### Lack of Semantic Generalization\n",
    "Looking at original corpus of sentences above, it is clear that we can formulate them in the following manner:\n",
    "\n",
    "*The X sat on the mat*\n",
    "\n",
    "where *X* is an animal:  cat, dog or goat.  How are these represented in BoW?"
   ]
  },
  {
   "cell_type": "code",
   "execution_count": 5,
   "metadata": {},
   "outputs": [
    {
     "data": {
      "text/plain": [
       "{'cat': 0, 'sat': 4, 'mat': 3, 'dog': 1, 'goat': 2}"
      ]
     },
     "execution_count": 5,
     "metadata": {},
     "output_type": "execute_result"
    }
   ],
   "source": [
    "vectorizer.vocabulary_"
   ]
  },
  {
   "cell_type": "markdown",
   "metadata": {},
   "source": [
    "So *cat* is the first feature (will appear in position 0 of a 1-hot encoded vector), *dog* is the second (position 1 of the vector) and so on.  It appears that in this case features are sorted by alphabetical order.  We can check by adding another animal, one that appears before *cat*:"
   ]
  },
  {
   "cell_type": "code",
   "execution_count": 6,
   "metadata": {},
   "outputs": [
    {
     "data": {
      "text/html": [
       "<div>\n",
       "<style scoped>\n",
       "    .dataframe tbody tr th:only-of-type {\n",
       "        vertical-align: middle;\n",
       "    }\n",
       "\n",
       "    .dataframe tbody tr th {\n",
       "        vertical-align: top;\n",
       "    }\n",
       "\n",
       "    .dataframe thead th {\n",
       "        text-align: right;\n",
       "    }\n",
       "</style>\n",
       "<table border=\"1\" class=\"dataframe\">\n",
       "  <thead>\n",
       "    <tr style=\"text-align: right;\">\n",
       "      <th></th>\n",
       "      <th>bird</th>\n",
       "      <th>cat</th>\n",
       "      <th>dog</th>\n",
       "      <th>mat</th>\n",
       "      <th>sat</th>\n",
       "    </tr>\n",
       "  </thead>\n",
       "  <tbody>\n",
       "    <tr>\n",
       "      <th>0</th>\n",
       "      <td>0</td>\n",
       "      <td>1</td>\n",
       "      <td>0</td>\n",
       "      <td>1</td>\n",
       "      <td>1</td>\n",
       "    </tr>\n",
       "    <tr>\n",
       "      <th>1</th>\n",
       "      <td>0</td>\n",
       "      <td>0</td>\n",
       "      <td>1</td>\n",
       "      <td>1</td>\n",
       "      <td>1</td>\n",
       "    </tr>\n",
       "    <tr>\n",
       "      <th>2</th>\n",
       "      <td>1</td>\n",
       "      <td>0</td>\n",
       "      <td>0</td>\n",
       "      <td>1</td>\n",
       "      <td>1</td>\n",
       "    </tr>\n",
       "  </tbody>\n",
       "</table>\n",
       "</div>"
      ],
      "text/plain": [
       "   bird  cat  dog  mat  sat\n",
       "0     0    1    0    1    1\n",
       "1     0    0    1    1    1\n",
       "2     1    0    0    1    1"
      ]
     },
     "execution_count": 6,
     "metadata": {},
     "output_type": "execute_result"
    }
   ],
   "source": [
    "feature_corpus = ['The cat sat on the mat', 'The dog sat on the mat', 'The bird sat on the mat']\n",
    "feature_vectorizer = CountVectorizer(lowercase=True, analyzer='word', binary=True, stop_words='english')\n",
    "representation = feature_vectorizer.fit_transform(feature_corpus)\n",
    "representation_df = pd.DataFrame(data = representation.toarray(), columns=sorted(feature_vectorizer.vocabulary_.keys()))\n",
    "representation_df"
   ]
  },
  {
   "cell_type": "markdown",
   "metadata": {},
   "source": [
    "Now *bird* is the first feature, *cat* is the second and *dog* is the third.  \n",
    "\n",
    "In the book, we have multiple animals that sit on the mat (cat, dog, goat, elephant).  This implies that only animals are able to sit on the mat while other objects are not.  Let's now attempt to build a simple classification model for deciding whether *X on the mat* is an allowed state-of-affairs or not - in other words, a text classification problem.\n",
    "\n",
    "Note:  after running the cell below, please make sure that you do not change the contents of the *vectorizer* variable."
   ]
  },
  {
   "cell_type": "code",
   "execution_count": 7,
   "metadata": {},
   "outputs": [
    {
     "data": {
      "text/html": [
       "<div>\n",
       "<style scoped>\n",
       "    .dataframe tbody tr th:only-of-type {\n",
       "        vertical-align: middle;\n",
       "    }\n",
       "\n",
       "    .dataframe tbody tr th {\n",
       "        vertical-align: top;\n",
       "    }\n",
       "\n",
       "    .dataframe thead th {\n",
       "        text-align: right;\n",
       "    }\n",
       "</style>\n",
       "<table border=\"1\" class=\"dataframe\">\n",
       "  <thead>\n",
       "    <tr style=\"text-align: right;\">\n",
       "      <th></th>\n",
       "      <th>apple</th>\n",
       "      <th>bird</th>\n",
       "      <th>cat</th>\n",
       "      <th>dog</th>\n",
       "      <th>elephant</th>\n",
       "      <th>goat</th>\n",
       "      <th>keyboard</th>\n",
       "      <th>mat</th>\n",
       "      <th>notebook</th>\n",
       "      <th>pen</th>\n",
       "      <th>plane</th>\n",
       "      <th>sat</th>\n",
       "    </tr>\n",
       "  </thead>\n",
       "  <tbody>\n",
       "    <tr>\n",
       "      <th>0</th>\n",
       "      <td>0</td>\n",
       "      <td>0</td>\n",
       "      <td>1</td>\n",
       "      <td>0</td>\n",
       "      <td>0</td>\n",
       "      <td>0</td>\n",
       "      <td>0</td>\n",
       "      <td>1</td>\n",
       "      <td>0</td>\n",
       "      <td>0</td>\n",
       "      <td>0</td>\n",
       "      <td>1</td>\n",
       "    </tr>\n",
       "    <tr>\n",
       "      <th>1</th>\n",
       "      <td>0</td>\n",
       "      <td>0</td>\n",
       "      <td>0</td>\n",
       "      <td>1</td>\n",
       "      <td>0</td>\n",
       "      <td>0</td>\n",
       "      <td>0</td>\n",
       "      <td>1</td>\n",
       "      <td>0</td>\n",
       "      <td>0</td>\n",
       "      <td>0</td>\n",
       "      <td>1</td>\n",
       "    </tr>\n",
       "    <tr>\n",
       "      <th>2</th>\n",
       "      <td>0</td>\n",
       "      <td>0</td>\n",
       "      <td>0</td>\n",
       "      <td>0</td>\n",
       "      <td>0</td>\n",
       "      <td>1</td>\n",
       "      <td>0</td>\n",
       "      <td>1</td>\n",
       "      <td>0</td>\n",
       "      <td>0</td>\n",
       "      <td>0</td>\n",
       "      <td>1</td>\n",
       "    </tr>\n",
       "    <tr>\n",
       "      <th>3</th>\n",
       "      <td>0</td>\n",
       "      <td>0</td>\n",
       "      <td>0</td>\n",
       "      <td>0</td>\n",
       "      <td>1</td>\n",
       "      <td>0</td>\n",
       "      <td>0</td>\n",
       "      <td>1</td>\n",
       "      <td>0</td>\n",
       "      <td>0</td>\n",
       "      <td>0</td>\n",
       "      <td>1</td>\n",
       "    </tr>\n",
       "    <tr>\n",
       "      <th>4</th>\n",
       "      <td>0</td>\n",
       "      <td>0</td>\n",
       "      <td>0</td>\n",
       "      <td>0</td>\n",
       "      <td>0</td>\n",
       "      <td>0</td>\n",
       "      <td>0</td>\n",
       "      <td>1</td>\n",
       "      <td>0</td>\n",
       "      <td>0</td>\n",
       "      <td>1</td>\n",
       "      <td>1</td>\n",
       "    </tr>\n",
       "    <tr>\n",
       "      <th>5</th>\n",
       "      <td>1</td>\n",
       "      <td>0</td>\n",
       "      <td>0</td>\n",
       "      <td>0</td>\n",
       "      <td>0</td>\n",
       "      <td>0</td>\n",
       "      <td>0</td>\n",
       "      <td>1</td>\n",
       "      <td>0</td>\n",
       "      <td>0</td>\n",
       "      <td>0</td>\n",
       "      <td>1</td>\n",
       "    </tr>\n",
       "    <tr>\n",
       "      <th>6</th>\n",
       "      <td>0</td>\n",
       "      <td>0</td>\n",
       "      <td>0</td>\n",
       "      <td>0</td>\n",
       "      <td>0</td>\n",
       "      <td>0</td>\n",
       "      <td>0</td>\n",
       "      <td>1</td>\n",
       "      <td>0</td>\n",
       "      <td>1</td>\n",
       "      <td>0</td>\n",
       "      <td>1</td>\n",
       "    </tr>\n",
       "    <tr>\n",
       "      <th>7</th>\n",
       "      <td>0</td>\n",
       "      <td>0</td>\n",
       "      <td>0</td>\n",
       "      <td>0</td>\n",
       "      <td>0</td>\n",
       "      <td>0</td>\n",
       "      <td>0</td>\n",
       "      <td>1</td>\n",
       "      <td>1</td>\n",
       "      <td>0</td>\n",
       "      <td>0</td>\n",
       "      <td>1</td>\n",
       "    </tr>\n",
       "    <tr>\n",
       "      <th>8</th>\n",
       "      <td>0</td>\n",
       "      <td>0</td>\n",
       "      <td>0</td>\n",
       "      <td>0</td>\n",
       "      <td>0</td>\n",
       "      <td>0</td>\n",
       "      <td>1</td>\n",
       "      <td>0</td>\n",
       "      <td>0</td>\n",
       "      <td>0</td>\n",
       "      <td>0</td>\n",
       "      <td>0</td>\n",
       "    </tr>\n",
       "    <tr>\n",
       "      <th>9</th>\n",
       "      <td>0</td>\n",
       "      <td>1</td>\n",
       "      <td>0</td>\n",
       "      <td>0</td>\n",
       "      <td>0</td>\n",
       "      <td>0</td>\n",
       "      <td>0</td>\n",
       "      <td>0</td>\n",
       "      <td>0</td>\n",
       "      <td>0</td>\n",
       "      <td>0</td>\n",
       "      <td>0</td>\n",
       "    </tr>\n",
       "  </tbody>\n",
       "</table>\n",
       "</div>"
      ],
      "text/plain": [
       "   apple  bird  cat  dog  elephant  goat  keyboard  mat  notebook  pen  plane  \\\n",
       "0      0     0    1    0         0     0         0    1         0    0      0   \n",
       "1      0     0    0    1         0     0         0    1         0    0      0   \n",
       "2      0     0    0    0         0     1         0    1         0    0      0   \n",
       "3      0     0    0    0         1     0         0    1         0    0      0   \n",
       "4      0     0    0    0         0     0         0    1         0    0      1   \n",
       "5      1     0    0    0         0     0         0    1         0    0      0   \n",
       "6      0     0    0    0         0     0         0    1         0    1      0   \n",
       "7      0     0    0    0         0     0         0    1         1    0      0   \n",
       "8      0     0    0    0         0     0         1    0         0    0      0   \n",
       "9      0     1    0    0         0     0         0    0         0    0      0   \n",
       "\n",
       "   sat  \n",
       "0    1  \n",
       "1    1  \n",
       "2    1  \n",
       "3    1  \n",
       "4    1  \n",
       "5    1  \n",
       "6    1  \n",
       "7    1  \n",
       "8    0  \n",
       "9    0  "
      ]
     },
     "execution_count": 7,
     "metadata": {},
     "output_type": "execute_result"
    }
   ],
   "source": [
    "training_corpus = ['The cat sat on the mat', 'The dog sat on the mat', 'The goat sat on the mat', 'The elephant sat on the mat', \n",
    "          'The plane sat on the mat', 'The apple sat on the mat', 'The pen sat on the mat', 'The notebook sat on the mat']\n",
    "\n",
    "allowed = [1,1,1,1,   # Objects that are allowed on the mat\n",
    "           0,0,0,0]   # Objects that are not allowed on the mat\n",
    "\n",
    "# Make sure that words we'll use in the test set are considered\n",
    "for other_object in ['keyboard', 'bird']:\n",
    "    training_corpus.append(other_object)   \n",
    "    \n",
    "vectorizer = CountVectorizer(lowercase=True, analyzer='word', binary=True, stop_words='english')\n",
    "representation = vectorizer.fit_transform(training_corpus)\n",
    "representation_df = pd.DataFrame(data = representation.toarray(), columns=sorted(vectorizer.vocabulary_.keys()))\n",
    "representation_df"
   ]
  },
  {
   "cell_type": "code",
   "execution_count": 8,
   "metadata": {},
   "outputs": [
    {
     "name": "stdout",
     "output_type": "stream",
     "text": [
      "Training accuracy score is:  100.0 %\n"
     ]
    },
    {
     "name": "stderr",
     "output_type": "stream",
     "text": [
      "/home/inlight/anaconda3/envs/D7046E/lib/python3.7/site-packages/sklearn/linear_model/logistic.py:432: FutureWarning: Default solver will be changed to 'lbfgs' in 0.22. Specify a solver to silence this warning.\n",
      "  FutureWarning)\n"
     ]
    }
   ],
   "source": [
    "from sklearn.linear_model import LogisticRegression\n",
    "from sklearn.metrics import accuracy_score\n",
    "logistic = LogisticRegression()\n",
    "y = allowed\n",
    "X = representation_df[:len(y)]\n",
    "\n",
    "logistic.fit(X,y) # Only train on the first 8 sentences\n",
    "print(\"Training accuracy score is:  {} %\".format(accuracy_score(logistic.predict(X), y)*100.0))"
   ]
  },
  {
   "cell_type": "markdown",
   "metadata": {},
   "source": [
    "We see that a simple [logistic regression](https://en.wikipedia.org/wiki/Logistic_regression) model (which is functionally equivalent to a single layer perceptron with logistic activation function) is able to learn our training data perfectly - animals are allowed on the mat, other objects are not.  Let's now see whether our model is able to *generalize* to other animals and objects:\n",
    "\n",
    "**Exercise**:  Transform the sentences in the test corpus into a BoW representation.  See [here](#hint3 \"X_test = vectorizer.transform(test_corpus)\") for the answer."
   ]
  },
  {
   "cell_type": "code",
   "execution_count": 9,
   "metadata": {},
   "outputs": [
    {
     "name": "stdout",
     "output_type": "stream",
     "text": [
      "Expected Results for (keyboard, bird):  [0, 1]\n",
      "Actual   Results for (keyboard, bird):  [0 0]\n"
     ]
    },
    {
     "data": {
      "text/html": [
       "<div>\n",
       "<style scoped>\n",
       "    .dataframe tbody tr th:only-of-type {\n",
       "        vertical-align: middle;\n",
       "    }\n",
       "\n",
       "    .dataframe tbody tr th {\n",
       "        vertical-align: top;\n",
       "    }\n",
       "\n",
       "    .dataframe thead th {\n",
       "        text-align: right;\n",
       "    }\n",
       "</style>\n",
       "<table border=\"1\" class=\"dataframe\">\n",
       "  <thead>\n",
       "    <tr style=\"text-align: right;\">\n",
       "      <th></th>\n",
       "      <th>apple</th>\n",
       "      <th>bird</th>\n",
       "      <th>cat</th>\n",
       "      <th>dog</th>\n",
       "      <th>elephant</th>\n",
       "      <th>goat</th>\n",
       "      <th>keyboard</th>\n",
       "      <th>mat</th>\n",
       "      <th>notebook</th>\n",
       "      <th>pen</th>\n",
       "      <th>plane</th>\n",
       "      <th>sat</th>\n",
       "    </tr>\n",
       "  </thead>\n",
       "  <tbody>\n",
       "    <tr>\n",
       "      <th>0</th>\n",
       "      <td>0</td>\n",
       "      <td>0</td>\n",
       "      <td>0</td>\n",
       "      <td>0</td>\n",
       "      <td>0</td>\n",
       "      <td>0</td>\n",
       "      <td>1</td>\n",
       "      <td>1</td>\n",
       "      <td>0</td>\n",
       "      <td>0</td>\n",
       "      <td>0</td>\n",
       "      <td>1</td>\n",
       "    </tr>\n",
       "    <tr>\n",
       "      <th>1</th>\n",
       "      <td>0</td>\n",
       "      <td>1</td>\n",
       "      <td>0</td>\n",
       "      <td>0</td>\n",
       "      <td>0</td>\n",
       "      <td>0</td>\n",
       "      <td>0</td>\n",
       "      <td>1</td>\n",
       "      <td>0</td>\n",
       "      <td>0</td>\n",
       "      <td>0</td>\n",
       "      <td>1</td>\n",
       "    </tr>\n",
       "  </tbody>\n",
       "</table>\n",
       "</div>"
      ],
      "text/plain": [
       "   apple  bird  cat  dog  elephant  goat  keyboard  mat  notebook  pen  plane  \\\n",
       "0      0     0    0    0         0     0         1    1         0    0      0   \n",
       "1      0     1    0    0         0     0         0    1         0    0      0   \n",
       "\n",
       "   sat  \n",
       "0    1  \n",
       "1    1  "
      ]
     },
     "execution_count": 9,
     "metadata": {},
     "output_type": "execute_result"
    }
   ],
   "source": [
    "test_corpus = ['The keyboard sat on the mat', 'The bird sat on the mat']\n",
    "X_test = vectorizer.transform(test_corpus)\n",
    "y_test = [0,1]\n",
    "print(\"Expected Results for (keyboard, bird):  {}\".format(y_test))\n",
    "print(\"Actual   Results for (keyboard, bird):  {}\".format(logistic.predict(X_test)))\n",
    "pd.DataFrame(data = X_test.toarray(), columns=sorted(vectorizer.vocabulary_.keys()))"
   ]
  },
  {
   "cell_type": "markdown",
   "metadata": {},
   "source": [
    "We see that this simple model was unable to capture the generalization that animals are allowed on the mat.  Perhaps a more powerful model would have been able to do this.  However, we would ideally like the notion of *animal* - a semantic concept - to be captured directly in the input representation if possible.  In other words, we'd like a representation that is 'smarter' in itself, regardless of the algorithm used.\n",
    "\n",
    "##### Sparseness\n",
    "In the BoW representation, every word is a feature.  So for large corpora, this means that a 1-hot encoded vector for a single sentence can be very long.  For example, in a vocabulary with 1000 words and 10 words per sentence, a single input vector will be 1000 x 10 \n",
    "= 10000 parameters.  A large corpus can easily contain many more words, and sentences can easily be 30 or 40 words long. The problem of large vocabularies and the computational complexity they bring is sometimes referred to as 'the curse of dimensionality'\n",
    "\n",
    "In addition, a single sentence normally contains only a small fraction of all possible words in the vocabulary.  This means that most values in our input will have the value 0. This is known as a sparse representation because the representation is only sparsely populated with data.  The result is that we have many parameters which in turn will require the use of a large amount of data for training a model or risk overfitting.  It is possible to use only the top *k* words from a vocabulary (as the [distribution of words in natural language](https://en.wikipedia.org/wiki/Zipf's_law) tends to have a small number of very frequent words), but this is only a stopgap measure and does not directly address the problem."
   ]
  },
  {
   "cell_type": "markdown",
   "metadata": {},
   "source": [
    "# Distributed Representations, aka Word Embeddings\n"
   ]
  },
  {
   "cell_type": "markdown",
   "metadata": {},
   "source": [
    "Now that we have seen some of the issues that affect the BoW representation, how can Deep Learning help?  In this section we discuss how to create better representations using techniques based on neural networks.  "
   ]
  },
  {
   "cell_type": "markdown",
   "metadata": {},
   "source": [
    "### Some Help from Theoretical Linguistics"
   ]
  },
  {
   "cell_type": "markdown",
   "metadata": {},
   "source": [
    "In order to get a good intuition for word embeddings, it is helpful to look at the [Distributional Hypothesis](https://en.wikipedia.org/wiki/Distributional_semantics#Distributional_hypothesis) which was first formulated in the context of Linguistics, specifically, statistical semantics:\n",
    "\n",
    "> A word is characterized by the company it keeps \n",
    "\n",
    "> (Firth, 1957)\n",
    "\n",
    "In simple terms, the Distributional Hypothesis states that words that appear in similar *syntactic* contexts tend to have similar *semantic* meanings.  Stated differently:  words have similar meanings when the words that precede and/or follow them are the same.  Using our examples from above and designating the animal in each sentence as X:\n",
    "\n",
    "The *cat* sat on the mat\n",
    "\n",
    "The *dog* sat on the mat\n",
    "\n",
    "The *elephant* sat on the mat\n",
    "\n",
    "In all of those examples X is preceded by the word 'The' and followed by the words 'sat on'. More specifically, X is preceded by the sequence '`<PAD>` The', where `<PAD>` signifies a padding value used to indicate the beginning or ending of a sentence. This is known as a *context* of 2 words, with two 'words' captured on either side of the target word.  Indeed by definition all of these X's have something in common - they are animals.  Let's compare those examples to the following:\n",
    "\n",
    "The *quickly* sat on the mat\n",
    "\n",
    "Obviously, with the sentence being non-grammatical, the word *quickly* does not appear in the same context as our animals.  \n",
    "How about a valid sentence?\n",
    "\n",
    "The *monitor* sat on the mat\n",
    "\n",
    "While a noun in the position of X is grammatical, it does not make semantic sense and would probably not be used in regular, everyday speech.  By applying the Distributional Hypothesis we can now assume that *quickly* and *monitor* are not semantically similar to animals based on the text that we have available.\n",
    "\n"
   ]
  },
  {
   "cell_type": "markdown",
   "metadata": {},
   "source": [
    "### Computing Word Embeddings"
   ]
  },
  {
   "cell_type": "markdown",
   "metadata": {},
   "source": [
    "From a mathematical viewpoint, embeddings are a [dimensionality reduction](https://en.wikipedia.org/wiki/Dimensionality_reduction) technique.  In the BoW representation, every unique word is a single dimension, and there are $|V|$ dimensions altogether (where $V$ is the set of all words in the corpus).  Embeddings, on the other hand, are lower-dimensional, usually between 50 and 300 dimensions. Embeddings are also dense vectors, typically possessing a value for each of the dimensions present.  Each dimension is essentially a *latent factor* that encodes some information about that particular word.  Therefore, embeddings are also known as *distributed representations*.    \n",
    "\n",
    "Embeddings possess a particularly interesting property:  when trained on a large corpus, those latent factors tend to encode semantics from the corpus' domain!  In other words, the model learns concepts and ideas that are specific to that domain.  Probably the most well-known example is from Mikolov et al's 2013 influential [paper](https://arxiv.org/pdf/1301.3781.pdf)):\n",
    "\n",
    "*vector('king') - vector('man') + vector('woman') ~= vector('queen')*\n",
    "\n",
    "That is, when subtracting the embedding of 'man' from the embedding of 'king' and following that with the addition of the embedding of 'woman' (keeping in mind that embeddings are just vectors), the closest embedding to the result is the one for the word 'queen'.  Other examples are given in the paper from Mikolov.\n",
    "\n",
    "The paper just discussed introduces Word2Vec - an algorithm for computing word embeddings.  In this lab, we will compute word embeddings for a small corpus using this algorithm.  Specifically, we will use the *skip-gram* variant of the algorithm (the paper also describes a variant called *Continuous Bag-of-Words* or *CBOW* - see below). \n",
    "\n",
    "\n",
    "### Word2Vec  Skip-gram\n",
    "\n",
    "![](https://cdn-images-1.medium.com/max/800/1*SR6l59udY05_bUICAjb6-w.png)\n",
    "*Skip-gram architecture, source: Mikolov et al.*\n",
    "\n",
    "\n",
    "The skipgram algorithm functions by selecting pairs of target and context words and training a model to recognize whether the context word appears in the context window of the target.  For example, given the sentence *the cat sat on the mat*, the target word *sat* and a context window size of 1, the (target, context) pairs will be:\n",
    "* (sat, cat)\n",
    "* (sat, on)\n",
    "\n",
    "For a context window of size 2, an additional pair will be added: \n",
    "* (sat, the)  (note that 'the' appears both 2 words before and after 'sat')\n",
    "\n",
    "We begin by creating a model with two inputs, namely the target and context words.  Next, we add an *embedding layer*.  This layer is a matrix of size $|V|\\times d$, with $V$ as defined above and $d$ as the dimension of the embedding (which is a hyper-parameter).  Essentially, the embedding layer serves as a lookup table, where the (1-hot encoded) target and context words each select a single row (i.e., vector) from the matrix.  This row is the embedding, and it is up to our algorithm to learn it.\n",
    "\n",
    "The next step is to compute a similarity score between the two vectors using the dot product operator.  As explained above, words that are in similar contexts tend to have semantic similarities - hence we would like our model to learn that each (target, context) pair should have a high similarity score.  \n",
    "\n",
    "Finally, we use a technique called *negative sampling*.  In negative sampling, not only do we choose (target, context) pairs from a given sentence - we also choose pairs that *do not* appear in the sentence - i.e., (target,not(context)).  For these pairs, we would like the similarity score to be low.  An example for the same sentence:\n",
    "\n",
    "* (cat, sat) - Positive sample\n",
    "* (cat, dog) - Negative sample\n",
    "\n",
    "As such, our input dataset consists of (target, context) pairs and a labels which are either 0 or 1, depending on whether this pair is a positive or negative sample.  Note that while we have labels, this is actually an *unsupervised* problem, as we generate the labels directly from the text.  Therefore, it is possible to run this algorithm on large amounts of text without human involvement.  The algorithm will then produce embeddings that are specific to that corpus.\n",
    "\n",
    "For this lab, we will extend our corpus by adding more animals, as well as adding further actions and even nouns that denote furniture.  Recall that words for each category are semantically similar, as they appear in the same contexts."
   ]
  },
  {
   "cell_type": "code",
   "execution_count": 10,
   "metadata": {},
   "outputs": [
    {
     "name": "stdout",
     "output_type": "stream",
     "text": [
      "There are 128 sentences in the corpus, with a vocabulary of 18 words\n"
     ]
    }
   ],
   "source": [
    "import itertools\n",
    "\n",
    "animals = ['cat','dog','goat','elephant','eagle','zebra','rhino', 'hippo']\n",
    "actions = ['sat','stood','jumped','slept']\n",
    "furniture = ['mat','rug','sofa','bed']\n",
    "\n",
    "# Generate all combinations of animal, action and furniture\n",
    "animal_corpus = ['The {} {} on the {}'.format(x[0], x[1], x[2]) for x in itertools.product(animals, actions, furniture)]\n",
    "vocabulary_size = len(animals) + len(actions) + len(furniture) + 2\n",
    "\n",
    "print(\"There are {} sentences in the corpus, with a vocabulary of {} words\".format(len(animal_corpus), vocabulary_size))"
   ]
  },
  {
   "cell_type": "markdown",
   "metadata": {},
   "source": [
    "Once we have a corpus, we use PyTorch model construction. The initial step is to convert each sentence into a sequence of numbers, where each word has a unique index to be used in a 1-hot encoding.  While this construction is very similar to what happens in Bag-of-Words, the representation will only be used to train the embeddings and *not* for any additional, downstream NLP tasks. \n",
    "\n",
    "The *Tokenizer* object breaks sentences into words, lower-cases them and gets rid of any special characters such as punctuation.  It then assigns each word a unique index (as we just described).  The *skipgram* function then creates the (target, context) pairs.  We configure it to use negative sampling and have use a hyper-parameter for the context window size.  Interestingly, note that we do not drop stopwords here."
   ]
  },
  {
   "cell_type": "code",
   "execution_count": 41,
   "metadata": {},
   "outputs": [],
   "source": [
    "import numpy as np\n",
    "import re\n",
    "import random\n",
    "\n",
    "# This is code for the Tokenizer (you don't need to understand it)\n",
    "class Tokenizer():\n",
    "    def __init__(self, num_words, filters='!\"#$%&()*+,-./:;<=>?@[\\]^_`{|}~', lower=True, split=' '):\n",
    "        self.num_words = num_words,\n",
    "        self.filters = filters\n",
    "        self.lower = lower\n",
    "        self.split = split\n",
    "        self.word_index = {'[OOV]':0}\n",
    "        self.index_word = ['[OOV]']\n",
    "    \n",
    "    def get_word_index(self, word):\n",
    "        if word in self.word_index:\n",
    "            return self.word_index[word]\n",
    "        else:\n",
    "            return 0\n",
    "    \n",
    "    def prepare_texts(self, corpus):\n",
    "        texts = []\n",
    "        for text in corpus:\n",
    "            text = re.sub('['+self.filters+']', '', text)\n",
    "            if self.lower:\n",
    "                text = text.lower()\n",
    "            words = text.split(self.split)\n",
    "            texts.append(words)\n",
    "        return texts\n",
    "    \n",
    "    def fit_on_texts(self,corpus):\n",
    "        corpus = self.prepare_texts(corpus)\n",
    "        words = sum(corpus, [])\n",
    "        for word in words:\n",
    "            if len(self.index_word) == self.num_words:\n",
    "                    return\n",
    "            if not word in self.word_index:\n",
    "                self.word_index[word] = len(self.index_word)\n",
    "                self.index_word.append(word)\n",
    "                \n",
    "    def texts_to_sequences(self, corpus):\n",
    "        corpus = self.prepare_texts(corpus)\n",
    "        return [[self.get_word_index(word) for word in text] for text in corpus]\n",
    "\n",
    "# This is code for the skipgram generation (you don't need to understand it)\n",
    "def skipgrams(sequence, vocabulary_size, window_size = 4, negative_samples = 1, shuffle = True):\n",
    "    couples = []\n",
    "    labels = []\n",
    "    for i, wi in enumerate(sequence):\n",
    "        if not wi:\n",
    "            continue\n",
    "            \n",
    "        window_start = max(0, i - window_size)\n",
    "        window_end = min(len(sequence), i + window_size + 1)\n",
    "        for j in range(window_start, window_end):\n",
    "            if j != i:\n",
    "                wj = sequence[j]\n",
    "                if not wj:\n",
    "                    continue\n",
    "                couples.append([wi, wj])\n",
    "                labels.append(1)\n",
    "\n",
    "    if negative_samples > 0:\n",
    "        num_negative_samples = int(len(labels) * negative_samples)\n",
    "        words = [c[0] for c in couples]\n",
    "        random.shuffle(words)\n",
    "\n",
    "        couples += [[words[i % len(words)], random.randint(1, vocabulary_size - 1)] for i in range(num_negative_samples)]\n",
    "        labels += [0] * num_negative_samples\n",
    "\n",
    "    if shuffle:\n",
    "        seed = random.randint(0, 10e6)\n",
    "        random.shuffle(couples)\n",
    "        random.shuffle(labels)\n",
    "\n",
    "    return couples, labels"
   ]
  },
  {
   "cell_type": "code",
   "execution_count": 59,
   "metadata": {},
   "outputs": [
    {
     "name": "stdout",
     "output_type": "stream",
     "text": [
      "There are 7168 (context,target) pairs in the dataset\n"
     ]
    }
   ],
   "source": [
    "# Hyper-parameters\n",
    "\n",
    "EMBEDDING_SIZE = 7  # Small corpus, so we're using a small dimension\n",
    "WINDOW_SIZE = 4   # Empirically found to work well\n",
    "\n",
    "# Convert text to numerical sequences\n",
    "\n",
    "# Note that the Tokenizer starts numbering words with 1.  So we have vocabulary_size+1 words.  The 0-th word\n",
    "# is considered to be the 'Out-of-vocabulary' token.\n",
    "tokenizer = Tokenizer(num_words=vocabulary_size+1, filters='!\"#$%&()*+,-./:;<=>?@[\\]^_`{|}~', lower=True, split=' ',)\n",
    "tokenizer.fit_on_texts(animal_corpus)\n",
    "sequences = tokenizer.texts_to_sequences(animal_corpus)\n",
    "\n",
    "# Generate (target, context) pairs with negative sampling\n",
    "\n",
    "pairs = []\n",
    "labels = []\n",
    "\n",
    "for this_sequence in sequences:\n",
    "    # Again note the vocabulary_size+1 expression\n",
    "    c, l = skipgrams(this_sequence, vocabulary_size+1, window_size=WINDOW_SIZE, negative_samples=1, shuffle=True)\n",
    "    for i in range(len(c)):\n",
    "        pairs.append(c[i])\n",
    "        labels.append(l[i])\n",
    "pairs = np.array(pairs)\n",
    "labels = np.array(labels)\n",
    "    \n",
    "print(\"There are {} (context,target) pairs in the dataset\".format(len(pairs)))"
   ]
  },
  {
   "cell_type": "markdown",
   "metadata": {},
   "source": [
    "We now build and train the model.\n",
    "\n",
    "**Exercise**: For this exercise we'll be creating our own PyTorch Module. Just like nn.Sequential can be used to create a numpy model with many modules, we can define our own class. The advantage of using your own class is that the network doesn't have to be strictly linear. In this case when using skipgrams we want to input two integers representations of words, extract their embeddings, calculate the dot product, and then predict if they are in the same window or not.\n",
    "\n",
    "The \\__init__() function is where we define the components of our Module. For this task this has already been done.\n",
    "The forward() function is the function that is called when a Module is given data as input. Your task is to complete the forward() function by completing the unfinished lines of code.\n",
    "\n",
    "To do the dot product we do first simple multiplication and then sum the resulting vector. The sum function is implemented in PyTorch so you should be able to find it online if you get stuck.\n",
    "\n",
    "The cell below that will train the network and does not need to be changed."
   ]
  },
  {
   "cell_type": "code",
   "execution_count": 63,
   "metadata": {},
   "outputs": [],
   "source": [
    "import torch\n",
    "import torch.nn as nn\n",
    "\n",
    "class SkipgramEmbedder(nn.Module):\n",
    "    \n",
    "    def __init__(self):\n",
    "        super().__init__()\n",
    "        \n",
    "        self.embedding_layer = nn.Embedding(vocabulary_size+1, EMBEDDING_SIZE,)\n",
    "        self.output_layer = nn.Linear(1,1)\n",
    "        self.sigmoid = nn.Sigmoid()\n",
    "    \n",
    "    def forward(self, target_word, context_word):\n",
    "        ##TODO## : Extract the embedding of the target word from the embedding layer\n",
    "        target_embedding = self.embedding_layer(target_word)\n",
    "        ##TODO## : Extract the embedding of the context word from the embedding layer\n",
    "        context_embedding = self.embedding_layer(context_word)\n",
    "        output = torch.sum(target_embedding * context_embedding, dim=1)\n",
    "        output = output.unsqueeze(-1) # Adding an inner dimension to make PyTorch differentiate batches from data \n",
    "        output = self.output_layer(output) ##TODO## : Run the sum through the output layer\n",
    "        output = self.sigmoid(output) ##TODO## : Normalize the output layer with a sigmoid function\n",
    "        return output\n",
    "\n",
    "model = SkipgramEmbedder()\n",
    "optimizer = torch.optim.RMSprop(model.parameters(), lr=0.001)\n",
    "#optimizer = torch.optim.SGD(model.parameters(), lr=0.001)\n",
    "#optimizer = torch.optim.Adagrad(model.parameters(), lr=0.01)\n",
    "loss_function = nn.BCELoss()\n"
   ]
  },
  {
   "cell_type": "code",
   "execution_count": 64,
   "metadata": {},
   "outputs": [
    {
     "name": "stderr",
     "output_type": "stream",
     "text": [
      "/home/inlight/anaconda3/envs/D7046E/lib/python3.7/site-packages/torch/nn/modules/loss.py:498: UserWarning: Using a target size (torch.Size([256])) that is different to the input size (torch.Size([1])) is deprecated. Please ensure they have the same size.\n",
      "  return F.binary_cross_entropy(input, target, weight=self.weight, reduction=self.reduction)\n"
     ]
    },
    {
     "ename": "ValueError",
     "evalue": "Target and input must have the same number of elements. target nelement (256) != input nelement (1)",
     "output_type": "error",
     "traceback": [
      "\u001b[0;31m---------------------------------------------------------------------------\u001b[0m",
      "\u001b[0;31mValueError\u001b[0m                                Traceback (most recent call last)",
      "\u001b[0;32m<ipython-input-64-2cc862628420>\u001b[0m in \u001b[0;36m<module>\u001b[0;34m\u001b[0m\n\u001b[1;32m     25\u001b[0m \u001b[0;34m\u001b[0m\u001b[0m\n\u001b[1;32m     26\u001b[0m         \u001b[0;31m# Calculate the loss of the prediction by comparing to the expected output\u001b[0m\u001b[0;34m\u001b[0m\u001b[0;34m\u001b[0m\u001b[0;34m\u001b[0m\u001b[0m\n\u001b[0;32m---> 27\u001b[0;31m         \u001b[0mloss\u001b[0m \u001b[0;34m=\u001b[0m \u001b[0mloss_function\u001b[0m\u001b[0;34m(\u001b[0m\u001b[0mprediction\u001b[0m\u001b[0;34m,\u001b[0m \u001b[0mlabel\u001b[0m\u001b[0;34m)\u001b[0m\u001b[0;34m\u001b[0m\u001b[0;34m\u001b[0m\u001b[0m\n\u001b[0m\u001b[1;32m     28\u001b[0m \u001b[0;34m\u001b[0m\u001b[0m\n\u001b[1;32m     29\u001b[0m         \u001b[0;31m# Backpropogate the loss through the network to find the gradients of all parameters\u001b[0m\u001b[0;34m\u001b[0m\u001b[0;34m\u001b[0m\u001b[0;34m\u001b[0m\u001b[0m\n",
      "\u001b[0;32m~/anaconda3/envs/D7046E/lib/python3.7/site-packages/torch/nn/modules/module.py\u001b[0m in \u001b[0;36m__call__\u001b[0;34m(self, *input, **kwargs)\u001b[0m\n\u001b[1;32m    539\u001b[0m             \u001b[0mresult\u001b[0m \u001b[0;34m=\u001b[0m \u001b[0mself\u001b[0m\u001b[0;34m.\u001b[0m\u001b[0m_slow_forward\u001b[0m\u001b[0;34m(\u001b[0m\u001b[0;34m*\u001b[0m\u001b[0minput\u001b[0m\u001b[0;34m,\u001b[0m \u001b[0;34m**\u001b[0m\u001b[0mkwargs\u001b[0m\u001b[0;34m)\u001b[0m\u001b[0;34m\u001b[0m\u001b[0;34m\u001b[0m\u001b[0m\n\u001b[1;32m    540\u001b[0m         \u001b[0;32melse\u001b[0m\u001b[0;34m:\u001b[0m\u001b[0;34m\u001b[0m\u001b[0;34m\u001b[0m\u001b[0m\n\u001b[0;32m--> 541\u001b[0;31m             \u001b[0mresult\u001b[0m \u001b[0;34m=\u001b[0m \u001b[0mself\u001b[0m\u001b[0;34m.\u001b[0m\u001b[0mforward\u001b[0m\u001b[0;34m(\u001b[0m\u001b[0;34m*\u001b[0m\u001b[0minput\u001b[0m\u001b[0;34m,\u001b[0m \u001b[0;34m**\u001b[0m\u001b[0mkwargs\u001b[0m\u001b[0;34m)\u001b[0m\u001b[0;34m\u001b[0m\u001b[0;34m\u001b[0m\u001b[0m\n\u001b[0m\u001b[1;32m    542\u001b[0m         \u001b[0;32mfor\u001b[0m \u001b[0mhook\u001b[0m \u001b[0;32min\u001b[0m \u001b[0mself\u001b[0m\u001b[0;34m.\u001b[0m\u001b[0m_forward_hooks\u001b[0m\u001b[0;34m.\u001b[0m\u001b[0mvalues\u001b[0m\u001b[0;34m(\u001b[0m\u001b[0;34m)\u001b[0m\u001b[0;34m:\u001b[0m\u001b[0;34m\u001b[0m\u001b[0;34m\u001b[0m\u001b[0m\n\u001b[1;32m    543\u001b[0m             \u001b[0mhook_result\u001b[0m \u001b[0;34m=\u001b[0m \u001b[0mhook\u001b[0m\u001b[0;34m(\u001b[0m\u001b[0mself\u001b[0m\u001b[0;34m,\u001b[0m \u001b[0minput\u001b[0m\u001b[0;34m,\u001b[0m \u001b[0mresult\u001b[0m\u001b[0;34m)\u001b[0m\u001b[0;34m\u001b[0m\u001b[0;34m\u001b[0m\u001b[0m\n",
      "\u001b[0;32m~/anaconda3/envs/D7046E/lib/python3.7/site-packages/torch/nn/modules/loss.py\u001b[0m in \u001b[0;36mforward\u001b[0;34m(self, input, target)\u001b[0m\n\u001b[1;32m    496\u001b[0m \u001b[0;34m\u001b[0m\u001b[0m\n\u001b[1;32m    497\u001b[0m     \u001b[0;32mdef\u001b[0m \u001b[0mforward\u001b[0m\u001b[0;34m(\u001b[0m\u001b[0mself\u001b[0m\u001b[0;34m,\u001b[0m \u001b[0minput\u001b[0m\u001b[0;34m,\u001b[0m \u001b[0mtarget\u001b[0m\u001b[0;34m)\u001b[0m\u001b[0;34m:\u001b[0m\u001b[0;34m\u001b[0m\u001b[0;34m\u001b[0m\u001b[0m\n\u001b[0;32m--> 498\u001b[0;31m         \u001b[0;32mreturn\u001b[0m \u001b[0mF\u001b[0m\u001b[0;34m.\u001b[0m\u001b[0mbinary_cross_entropy\u001b[0m\u001b[0;34m(\u001b[0m\u001b[0minput\u001b[0m\u001b[0;34m,\u001b[0m \u001b[0mtarget\u001b[0m\u001b[0;34m,\u001b[0m \u001b[0mweight\u001b[0m\u001b[0;34m=\u001b[0m\u001b[0mself\u001b[0m\u001b[0;34m.\u001b[0m\u001b[0mweight\u001b[0m\u001b[0;34m,\u001b[0m \u001b[0mreduction\u001b[0m\u001b[0;34m=\u001b[0m\u001b[0mself\u001b[0m\u001b[0;34m.\u001b[0m\u001b[0mreduction\u001b[0m\u001b[0;34m)\u001b[0m\u001b[0;34m\u001b[0m\u001b[0;34m\u001b[0m\u001b[0m\n\u001b[0m\u001b[1;32m    499\u001b[0m \u001b[0;34m\u001b[0m\u001b[0m\n\u001b[1;32m    500\u001b[0m \u001b[0;34m\u001b[0m\u001b[0m\n",
      "\u001b[0;32m~/anaconda3/envs/D7046E/lib/python3.7/site-packages/torch/nn/functional.py\u001b[0m in \u001b[0;36mbinary_cross_entropy\u001b[0;34m(input, target, weight, size_average, reduce, reduction)\u001b[0m\n\u001b[1;32m   2056\u001b[0m     \u001b[0;32mif\u001b[0m \u001b[0minput\u001b[0m\u001b[0;34m.\u001b[0m\u001b[0mnumel\u001b[0m\u001b[0;34m(\u001b[0m\u001b[0;34m)\u001b[0m \u001b[0;34m!=\u001b[0m \u001b[0mtarget\u001b[0m\u001b[0;34m.\u001b[0m\u001b[0mnumel\u001b[0m\u001b[0;34m(\u001b[0m\u001b[0;34m)\u001b[0m\u001b[0;34m:\u001b[0m\u001b[0;34m\u001b[0m\u001b[0;34m\u001b[0m\u001b[0m\n\u001b[1;32m   2057\u001b[0m         raise ValueError(\"Target and input must have the same number of elements. target nelement ({}) \"\n\u001b[0;32m-> 2058\u001b[0;31m                          \"!= input nelement ({})\".format(target.numel(), input.numel()))\n\u001b[0m\u001b[1;32m   2059\u001b[0m \u001b[0;34m\u001b[0m\u001b[0m\n\u001b[1;32m   2060\u001b[0m     \u001b[0;32mif\u001b[0m \u001b[0mweight\u001b[0m \u001b[0;32mis\u001b[0m \u001b[0;32mnot\u001b[0m \u001b[0;32mNone\u001b[0m\u001b[0;34m:\u001b[0m\u001b[0;34m\u001b[0m\u001b[0;34m\u001b[0m\u001b[0m\n",
      "\u001b[0;31mValueError\u001b[0m: Target and input must have the same number of elements. target nelement (256) != input nelement (1)"
     ]
    }
   ],
   "source": [
    "#Epochs\n",
    "TOTAL_EPOCHS = 1500\n",
    "BATCH_SIZE = 256\n",
    "\n",
    "# For each epoch\n",
    "for epoch in range(TOTAL_EPOCHS):\n",
    "    \n",
    "    # A variable for containing the sum of all batch losses for this epoch\n",
    "    epoch_loss = 0\n",
    "    \n",
    "    # Lower index\n",
    "    start = 0\n",
    "    \n",
    "    # For each batch\n",
    "    for batch_nr, end in enumerate(range(BATCH_SIZE,len(labels),BATCH_SIZE)):\n",
    "        \n",
    "        targets = torch.Tensor(pairs[start:end,0]).long()\n",
    "        contexts = torch.Tensor(pairs[start:end,1]).long()\n",
    "        label = torch.Tensor(labels[start:end])\n",
    "        \n",
    "        start = end\n",
    "        \n",
    "        # Predict for each digit in the batch whatclass they belong to\n",
    "        prediction = model(targets, contexts)\n",
    "        \n",
    "        # Calculate the loss of the prediction by comparing to the expected output\n",
    "        loss = loss_function(prediction, label)\n",
    "        \n",
    "        # Backpropogate the loss through the network to find the gradients of all parameters\n",
    "        loss.backward()\n",
    "        \n",
    "        # Update the parameters along their gradients\n",
    "        optimizer.step()\n",
    "        \n",
    "        # Clear stored gradient values\n",
    "        optimizer.zero_grad()\n",
    "        \n",
    "        # Add the loss to the total epoch loss (item() turns a PyTorch scalar into a normal Python datatype)\n",
    "        epoch_loss += loss.item()\n",
    "        \n",
    "        #Print the epoch, batch, and lossoutput = torch.sum(target_embedding * context_embedding, dim=1)\n",
    "        print(\n",
    "            '\\rEpoch {} [{}/{}] - Loss: {}'.format(\n",
    "                epoch+1, batch_nr+1, len(labels)/BATCH_SIZE, loss\n",
    "            ),\n",
    "            end=''\n",
    "        )"
   ]
  },
  {
   "cell_type": "markdown",
   "metadata": {},
   "source": [
    "We discussed the fact that embeddings capture the semantics inherent in the corpus.  Hence, it would be interesting to look 'inside' our results.  We'll try a dimensionality-reduction operation so that we can plot the learned representations on a 2-D plane (our computer screen).  One possible technique is [Principal Component Analysis (PCA)](https://en.wikipedia.org/wiki/Principal_component_analysis). You can read more about PCA in [Section 2.12 in the course book Deep Learning](http://www.deeplearningbook.org/contents/linear_algebra.html). We use the PCA functionality in Python's [Scikit-Learn](http://scikit-learn.org/stable/index.html) library, and color the embeddings based on their categories.  'Good' embeddings will show up as well-defined clusters - individual words will be closer to words of the same category than to words of other categories.  Try running the previous cell multiple times and observe the results."
   ]
  },
  {
   "cell_type": "code",
   "execution_count": 56,
   "metadata": {
    "scrolled": true
   },
   "outputs": [
    {
     "data": {
      "image/png": "[encoded data removed]",
      "text/plain": [
       "<Figure size 1440x720 with 1 Axes>"
      ]
     },
     "metadata": {
      "needs_background": "light"
     },
     "output_type": "display_data"
    }
   ],
   "source": [
    "%matplotlib inline\n",
    "from sklearn.decomposition import PCA\n",
    "from matplotlib import pyplot as plt\n",
    "\n",
    "\n",
    "category_colors = {'animals' : 'green', \n",
    "                   'actions' : 'blue',\n",
    "                   'furniture' : 'yellow'}\n",
    "\n",
    "colors = []\n",
    "for i in range(vocabulary_size):\n",
    "    colors.append('red')\n",
    "    \n",
    "for word in tokenizer.word_index:\n",
    "    index = tokenizer.word_index[word] -1\n",
    "    if word in animals:\n",
    "        colors[index] = category_colors['animals']\n",
    "    elif word in actions:\n",
    "        colors[index] = category_colors['actions']\n",
    "    elif word in furniture:\n",
    "        colors[index] = category_colors['furniture']\n",
    "\n",
    "# Plots embeddings using PCA (you don't need to understand it)\n",
    "def plot_embeddings_after_pca(vectors):  \n",
    "        \"\"\"\n",
    "        Perform PCA and plot the resulting 2 components on X and Y axis\n",
    "        Args:\n",
    "          embedding_weights - the set of vectors to \n",
    "        \"\"\"\n",
    "        pca = PCA(n_components=2)\n",
    "        vectors_pca = pca.fit_transform(vectors)\n",
    "        plt.figure(figsize=(20,10))\n",
    "        \n",
    "        # We do not draw the first element, which is the 'Out-of-Vocabulary' token\n",
    "        plt.scatter(vectors_pca[1:,0], vectors_pca[1:,1], c=colors, s=100, alpha=0.3);\n",
    "        plt.title('Embeddings after PCA')\n",
    "        legend_elements = [\n",
    "                    plt.Line2D([0], [0], marker='o', color=category_colors['animals'], label='Animals'),\n",
    "                    plt.Line2D([0], [0], marker='o', color=category_colors['actions'], label='Actions'),\n",
    "                    plt.Line2D([0], [0], marker='o', color=category_colors['furniture'], label='Furniture'),\n",
    "                    plt.Line2D([0], [0], marker='o', color='red', label='Other'),\n",
    "                  ]\n",
    "\n",
    "        # Create the figure\n",
    "        plt.legend(handles=legend_elements);\n",
    "\n",
    "# Extracting the embeddings for every word in the vocabulary, detaching them from PyTorch, and turning them into numpy\n",
    "numpy_word_vectors = model.embedding_layer(torch.Tensor(range(vocabulary_size+1)).long()).detach().numpy()\n",
    "\n",
    "# Display the most significant axes of the word vectors using PCA\n",
    "plot_embeddings_after_pca(numpy_word_vectors)\n",
    "\n",
    "\n",
    "\n",
    "\n"
   ]
  },
  {
   "attachments": {
    "download.png": {
     "image/png": "[encoded data removed]"
    },
    "image.png": {
     "image/png": "[encoded data removed]"
    }
   },
   "cell_type": "markdown",
   "metadata": {},
   "source": [
    "#### Exercise\n",
    "1.  Experiment with embedding and context window sizes to get some intuition for how they affect the final results.\n",
    "*Reducing window size strangely led to better loss, but the graph was centered (so worse, less splitted)*\n",
    "![download.png](attachment:download.png) *Increasing it over 5 did not improve anything but the point were scattered.*\n",
    "2.  Try replacing the dot product operation with other ways of combining two vectors (like subtraction, minumum, concatenation, etc). How do these affect the embedding quality?\n",
    "*Replacing multiplication with substraction was strangely better* ![image.png](attachment:image.png)\n",
    "3.  How does the choice of epochs and/or optimizer affect the embedding quality?\n",
    "*Changing epochs don't change since much since about 300 is way sufficient. Changing optimizer affet speed : RMSprop and Adagrad were as fast, where SGD was way slower, but didn't oscillate.*"
   ]
  },
  {
   "cell_type": "markdown",
   "metadata": {},
   "source": [
    "### Code Exercise - Implementing CBoW\n",
    "\n",
    "In the previous section, we experimented with the *skip-gram* version of Word2Vec.  As mentioned, there is also a different variant named *Continuous Bag-of-Words (CBoW)*.  Recall that the Bag-of-Words representation does not take word order into account.  The CBoW approach is similar - but generates distributed representations in contrast to the discrete and sparse representation generated by BoW.\n",
    "\n",
    "In this section, you will implement the CBoW approach from Word2Vec.\n",
    "\n",
    "#### CBoW Approach\n",
    "\n",
    "![](https://cdn-images-1.medium.com/max/800/1*UVe8b6CWYykcxbBOR6uCfg.png)\n",
    "*CBoW architecture, slightly modified from Mikolov et al.*\n",
    "\n",
    "In contrast to skip-grams, CBoW considers all words on each side of the target word simultaneously.  In the figure above, $w(t-1)$ and $w(t-2)$ are the embeddings of the context words that appear to the left of the target word while $w(t+1)$ and $w(t+2)$ are those content words that appear to the right.  In this case, the window size is 2, and in total there are 4 context words.  Once the context words are identified, the next stage is taking the *mean* of the context embeddings.  In truth, any operation that merges the context embeddings could work, such as $sum$. At this point, word order is lost and this is where the Bag-of-Words name derives from. From there on, it is a simple matter of attaching a [softmax](https://en.wikipedia.org/wiki/Softmax_function) activation for selecting the 1-hot encoded context word (denoted $w(t)$).\n",
    "\n",
    "The following cell contains the code to generate sequences of length *window_size*, along with the 1-hot encoded representation of the context word."
   ]
  },
  {
   "cell_type": "code",
   "execution_count": 16,
   "metadata": {},
   "outputs": [
    {
     "name": "stdout",
     "output_type": "stream",
     "text": [
      "cbow_X shape: (768, 4)\n",
      "cbow_y shape: (768,)\n"
     ]
    }
   ],
   "source": [
    "import torch\n",
    "import torch.nn as nn\n",
    "\n",
    "window_size = 2\n",
    "\n",
    "# Takes the data and extracts the word (y) and its context (X)\n",
    "def make_cbow_data(sequences, window_size):\n",
    "    X = []\n",
    "    y = []\n",
    "    num_classes = len(np.unique(np.hstack(sequences)))+1\n",
    "    for this_sequence in sequences:\n",
    "        for output_index, this_word in enumerate(this_sequence):\n",
    "            this_input = []\n",
    "            y.append(this_word)\n",
    "            input_indices = [output_index - i for i in range(window_size,0,-1)]\n",
    "            input_indices += [output_index + i for i in range(1, window_size+1)]\n",
    "            for i in input_indices:\n",
    "                this_input.append(this_sequence[i] if i >= 0 and i < len(this_sequence) else 0)\n",
    "            X.append(this_input)\n",
    "    return num_classes, np.array(X),np.array(y)\n",
    "                \n",
    "   \n",
    "        \n",
    "num_classes, cbow_X, cbow_y = make_cbow_data(sequences, window_size)\n",
    "print(\"cbow_X shape: {}\".format(cbow_X.shape))\n",
    "print(\"cbow_y shape: {}\".format(cbow_y.shape))"
   ]
  },
  {
   "cell_type": "markdown",
   "metadata": {},
   "source": [
    "**Exercise**\n",
    "This exercise is similar to the skipgram embedder in that it too requires you to finish an incomplete nn.Module. However the CBoW embedder only takes a single input (the integers of the context words in the window) and tries to classify what word should be in the centre of the window. First it extracts all the context words' embeddings, then it takes the average of them, which is then given to a single layer network to predict the target word.\n",
    "\n",
    "Just like with the sum in the earlier task the mean is implemented in PyTorch and a quick search online should help you find it."
   ]
  },
  {
   "cell_type": "code",
   "execution_count": 17,
   "metadata": {},
   "outputs": [],
   "source": [
    "import torch\n",
    "import torch.nn as nn\n",
    "\n",
    "class CBoWEmbedder(nn.Module):\n",
    "    \n",
    "    def __init__(self):\n",
    "        super(CBoWEmbedder, self).__init__()\n",
    "        \n",
    "        self.embedding_layer = nn.Embedding(vocabulary_size+1, EMBEDDING_SIZE,)\n",
    "        self.output_layer = nn.Linear(EMBEDDING_SIZE,vocabulary_size+1)\n",
    "        self.logsoftmax = nn.LogSoftmax(dim=1)\n",
    "    \n",
    "    def forward(self, inputs):\n",
    "        embeddings = self.embedding_layer(inputs) ## TODO ## : Extract the embeddings of all context words\n",
    "        output = torch.mean(embeddings, dim=1) ## TODO ## : Compute the mean of embeddings\n",
    "        output = self.output_layer(output) ##TODO## : Run the mean through the output layer\n",
    "        output = self.logsoftmax(output) ##TODO## : Use the logsoftmax function\n",
    "        return output\n",
    "\n",
    "model = CBoWEmbedder()\n",
    "optimizer = torch.optim.RMSprop(model.parameters(), lr=0.0001)\n",
    "loss_function = nn.CrossEntropyLoss()\n"
   ]
  },
  {
   "cell_type": "markdown",
   "metadata": {},
   "source": [
    "You can now train the model, and compare the embeddings generated by CBoW to those of skipgram above."
   ]
  },
  {
   "cell_type": "code",
   "execution_count": 18,
   "metadata": {},
   "outputs": [
    {
     "name": "stdout",
     "output_type": "stream",
     "text": [
      "(768, 4)\n",
      "Epoch 22500 [2/1.0] - Loss: 0.7346268892288208"
     ]
    }
   ],
   "source": [
    "#Epochs\n",
    "TOTAL_EPOCHS = 1500\n",
    "BATCH_SIZE = 256\n",
    "\n",
    "print(cbow_X.shape)\n",
    "\n",
    "# For each epoch\n",
    "for epoch in range(TOTAL_EPOCHS):\n",
    "    \n",
    "    # A variable for containing the sum of all batch losses for this epoch\n",
    "    epoch_loss = 0\n",
    "    \n",
    "    # Lower index\n",
    "    start = 0\n",
    "    \n",
    "    # For each batch\n",
    "    for batch_nr, end in enumerate(range(BATCH_SIZE,len(cbow_X),BATCH_SIZE)):\n",
    "        \n",
    "        inputs = torch.Tensor(cbow_X[start:end,:]).long()\n",
    "        labels = torch.Tensor(cbow_y[start:end]).long()\n",
    "        \n",
    "        start = end\n",
    "        \n",
    "        # Predict for each digit in the batch whatclass they belong to\n",
    "        prediction = model(inputs)\n",
    "\n",
    "        # Calculate the loss of the prediction by comparing to the expected output\n",
    "        loss = loss_function(prediction, labels)\n",
    "        \n",
    "        # Backpropogate the loss through the network to find the gradients of all parameters\n",
    "        loss.backward()\n",
    "        \n",
    "        # Update the parameters along their gradients\n",
    "        optimizer.step()\n",
    "        \n",
    "        # Clear stored gradient values\n",
    "        optimizer.zero_grad()\n",
    "        \n",
    "        # Add the loss to the total epoch loss (item() turns a PyTorch scalar into a normal Python datatype)\n",
    "        epoch_loss += loss.item()\n",
    "        \n",
    "        #Print the epoch, batch, and loss\n",
    "        print(\n",
    "            '\\rEpoch {} [{}/{}] - Loss: {}'.format(\n",
    "                epoch+1, batch_nr+1, len(labels)/BATCH_SIZE, loss\n",
    "            ),\n",
    "            end=''\n",
    "        )"
   ]
  },
  {
   "cell_type": "code",
   "execution_count": 19,
   "metadata": {},
   "outputs": [
    {
     "data": {
      "image/png": "[encoded data removed]",
      "text/plain": [
       "<Figure size 1440x720 with 1 Axes>"
      ]
     },
     "metadata": {
      "needs_background": "light"
     },
     "output_type": "display_data"
    }
   ],
   "source": [
    "plot_embeddings_after_pca(model.embedding_layer(torch.Tensor(range(vocabulary_size+1)).long()).detach().numpy())"
   ]
  },
  {
   "cell_type": "markdown",
   "metadata": {},
   "source": [
    "### Applying Word Embeddings\n",
    "\n",
    "In the next section, we'll see how to apply word embeddings that have been pre-trained.  We'll use embeddings generated using the *FastText* algorithm that was developed by Facebook AI.  It is similar to Word2Vec that we saw above in that it has both CBOW and Skipgram variants, but it performs the actual 'construction' of the embedding in a different way (and was specifically designed for languages that have complex [morphology](https://en.wikipedia.org/wiki/Morphology_(linguistics)).  Facebook has already trained embeddings on a large corpus (in this case, Wikipedia dumps for multiple languages) and makes this data available [on the Facebook Research GitHub site](https://github.com/facebookresearch/fastText/blob/bc1285939f1c216bd358425c3685a049dd8f56c0/docs/crawl-vectors.md).  This link also contains a reference to the paper describing the FastText algorithm.  \n",
    "\n",
    "We will repeat the small experiment we performed at the beginning of the lab, but this time we will use FastText word embeddings.  Will our classifier be able to generalize?\n",
    "\n",
    "**Exercise**\n",
    "What happens when you switch around what objects are allowed on the mat? Will the algorithm be able to learn? Why/why not?"
   ]
  },
  {
   "cell_type": "code",
   "execution_count": 20,
   "metadata": {},
   "outputs": [],
   "source": [
    "from gensim.models import KeyedVectors\n",
    "\n",
    "# Load embeddings from the pre-trained file\n",
    "# The file can be found in Canvas and must be placed in the same directory as the notebook)\n",
    "fastText_embeddings = KeyedVectors.load_word2vec_format('wiki.simple.vec')"
   ]
  },
  {
   "cell_type": "code",
   "execution_count": 21,
   "metadata": {},
   "outputs": [],
   "source": [
    "import numpy as np\n",
    "\n",
    "def build_data_set(corpus):\n",
    "    \"\"\"\n",
    "    Iterate over all sentences in the corpus and for each word, copy the embedding to the appropriate indices\n",
    "    Args:\n",
    "      corpus - list of individual sentences in the corpus\n",
    "    Returns:\n",
    "      X - Matrix of 1-hot encodings of the sentences\n",
    "    \"\"\"\n",
    "    \n",
    "    # Assume all sentences are of equal length - otherwise we'll need to truncate or pad\n",
    "    words_in_sentence = len(corpus[0].split(' '))\n",
    "    \n",
    "    # Initialize \n",
    "    X = np.zeros((len(corpus), words_in_sentence * fastText_embeddings.vector_size))\n",
    "\n",
    "    for sent_index in range(len(corpus)):\n",
    "        words = corpus[sent_index].split(' ')\n",
    "        for word_index in range(len(words)):\n",
    "            start_index = fastText_embeddings.vector_size * word_index\n",
    "            end_index = fastText_embeddings.vector_size * (word_index + 1)\n",
    "            X[sent_index, start_index:end_index] = fastText_embeddings[words[word_index].lower()] \n",
    "    \n",
    "    return X\n",
    "            \n",
    "\n",
    "# Train the model - animals are allowed on the mat, other objects are not\n",
    "training_corpus = ['The cat sat on the mat', 'The dog sat on the mat', 'The goat sat on the mat', 'The elephant sat on the mat', \n",
    "          'The plane sat on the mat', 'The apple sat on the mat', 'The pen sat on the mat', 'The notebook sat on the mat']\n",
    "allowed = np.array(\n",
    "           [1,1,1,1,\n",
    "            0,0,0,0])\n",
    "\n",
    "X_train = build_data_set(training_corpus)\n",
    "        \n",
    "# Will the network be able to generalize?        \n",
    "test_corpus = ['The keyboard sat on the mat', 'The bird sat on the mat']\n",
    "X_test = build_data_set(test_corpus)\n",
    "\n"
   ]
  },
  {
   "cell_type": "code",
   "execution_count": 22,
   "metadata": {},
   "outputs": [
    {
     "name": "stdout",
     "output_type": "stream",
     "text": [
      "Expected Results for (keyboard, bird):  [0, 1]\n",
      "Actual   Results for (keyboard, bird):  [0 1]\n"
     ]
    },
    {
     "name": "stderr",
     "output_type": "stream",
     "text": [
      "/home/inlight/anaconda3/envs/D7046E/lib/python3.7/site-packages/sklearn/linear_model/logistic.py:432: FutureWarning: Default solver will be changed to 'lbfgs' in 0.22. Specify a solver to silence this warning.\n",
      "  FutureWarning)\n"
     ]
    }
   ],
   "source": [
    "logistic_embeddings = LogisticRegression()\n",
    "logistic_embeddings.fit(X_train, allowed)\n",
    "\n",
    "y_test = [0,1]\n",
    "\n",
    "print(\"Expected Results for (keyboard, bird):  {}\".format(y_test))\n",
    "print(\"Actual   Results for (keyboard, bird):  {}\".format(logistic_embeddings.predict(X_test)))"
   ]
  },
  {
   "cell_type": "markdown",
   "metadata": {},
   "source": [
    "### Summary\n",
    "\n",
    "In this lab, we discussed the use of word embeddings as a way to represent individual words to NLP algorithms.  We went over the issues that affect the Bag-of-Words representation, and saw how word embeddings can solve them.  We then used a small corpus to train our own embeddings, and finally used a pre-trained set of embeddings for solving a text classification problem.\n",
    "\n",
    "The concept of embeddings and distributed representations is very broad, and it will probably not surprise you to learn that there are techniques and algorithms for computing embeddings for sentences and even entire documents.  In fact, this is a one of the most active areas in NLP research.  These embeddings are able to capture semantic similarities in a domain, and so are ideal as the inputs for other, downstream NLP tasks.  \n",
    "\n",
    "Finally, here are some best practices for training your own embeddings:\n",
    "* Use a large corpus of domain-specific texts.  Using a general corpus (like Wikipedia) may affect your model's accuracy and performance for your specific application.  If you do not have a large amount of domain-specific texts, the use of *transfer learning* on pretrained embeddings may help.\n",
    "* Plan for a training process that will take a long time.  The use of a GPU (or multiple GPUs) is highly recommended.\n",
    "* You will need to tune both embedding dimensionality and context window size. The choices you make here will directly affect the accuracy of your model and the time required to train it."
   ]
  }
 ],
 "metadata": {
  "kernelspec": {
   "display_name": "Python 3",
   "language": "python",
   "name": "python3"
  },
  "language_info": {
   "codemirror_mode": {
    "name": "ipython",
    "version": 3
   },
   "file_extension": ".py",
   "mimetype": "text/x-python",
   "name": "python",
   "nbconvert_exporter": "python",
   "pygments_lexer": "ipython3",
   "version": "3.7.5"
  }
 },
 "nbformat": 4,
 "nbformat_minor": 2
}
